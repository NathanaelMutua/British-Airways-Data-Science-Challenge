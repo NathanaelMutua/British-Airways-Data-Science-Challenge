{
  "cells": [
    {
      "cell_type": "code",
      "execution_count": 1,
      "id": "66cd5177-c666-45e7-a80d-e88e522f1739",
      "metadata": {
        "id": "66cd5177-c666-45e7-a80d-e88e522f1739",
        "outputId": "905322b9-1327-43b3-affd-18ad97fe81fb",
        "colab": {
          "base_uri": "https://localhost:8080/"
        }
      },
      "outputs": [
        {
          "output_type": "stream",
          "name": "stdout",
          "text": [
            "Collecting builtwith\n",
            "  Downloading builtwith-1.3.4.tar.gz (34 kB)\n",
            "  Preparing metadata (setup.py) ... \u001b[?25l\u001b[?25hdone\n",
            "Requirement already satisfied: six in /usr/local/lib/python3.11/dist-packages (from builtwith) (1.17.0)\n",
            "Building wheels for collected packages: builtwith\n",
            "  Building wheel for builtwith (setup.py) ... \u001b[?25l\u001b[?25hdone\n",
            "  Created wheel for builtwith: filename=builtwith-1.3.4-py3-none-any.whl size=36079 sha256=590f1fb7f3e76ec74812c0b0e682831c8cd8c9632fa0fae61e4a88115d70e192\n",
            "  Stored in directory: /root/.cache/pip/wheels/19/85/16/8396a3cc152be563ea21d302952ff7737ff23663d11c1ec864\n",
            "Successfully built builtwith\n",
            "Installing collected packages: builtwith\n",
            "Successfully installed builtwith-1.3.4\n"
          ]
        }
      ],
      "source": [
        "# Let's first see what technology the website uses using the 'builtwth' library\n",
        "!pip install builtwith"
      ]
    },
    {
      "cell_type": "code",
      "execution_count": 2,
      "id": "0b497df7-c2f7-470e-bc9f-ee15ce6a028e",
      "metadata": {
        "id": "0b497df7-c2f7-470e-bc9f-ee15ce6a028e"
      },
      "outputs": [],
      "source": [
        "import builtwith"
      ]
    },
    {
      "cell_type": "code",
      "execution_count": 3,
      "id": "5aef7987-3a4b-4a15-8c77-5ec2509f2a3f",
      "metadata": {
        "id": "5aef7987-3a4b-4a15-8c77-5ec2509f2a3f",
        "outputId": "ac9fb2af-1707-4bfe-ac78-ed9f9a51677f",
        "colab": {
          "base_uri": "https://localhost:8080/"
        }
      },
      "outputs": [
        {
          "output_type": "stream",
          "name": "stdout",
          "text": [
            "{'cdn': ['CloudFlare'], 'advertising-networks': ['Google AdSense'], 'font-scripts': ['Google Font API'], 'photo-galleries': ['Lightbox'], 'javascript-frameworks': ['Lightbox', 'Modernizr', 'jQuery'], 'cms': ['WordPress'], 'programming-languages': ['PHP'], 'blogs': ['PHP', 'WordPress'], 'marketing-automation': ['Yoast SEO'], 'web-frameworks': ['ZURB Foundation']}\n"
          ]
        }
      ],
      "source": [
        "website = \"https://www.airlinequality.com\"\n",
        "result = builtwith.parse(website)\n",
        "print(result)"
      ]
    },
    {
      "cell_type": "code",
      "execution_count": 4,
      "id": "71046aa5-4c82-46b5-919d-da1ba8bd0cea",
      "metadata": {
        "id": "71046aa5-4c82-46b5-919d-da1ba8bd0cea",
        "outputId": "832e67fa-41aa-408a-a8cc-f97dba9ba208",
        "colab": {
          "base_uri": "https://localhost:8080/"
        }
      },
      "outputs": [
        {
          "output_type": "stream",
          "name": "stdout",
          "text": [
            "Collecting python-whois\n",
            "  Downloading python_whois-0.9.5-py3-none-any.whl.metadata (2.6 kB)\n",
            "Requirement already satisfied: python-dateutil in /usr/local/lib/python3.11/dist-packages (from python-whois) (2.8.2)\n",
            "Requirement already satisfied: six>=1.5 in /usr/local/lib/python3.11/dist-packages (from python-dateutil->python-whois) (1.17.0)\n",
            "Downloading python_whois-0.9.5-py3-none-any.whl (104 kB)\n",
            "\u001b[2K   \u001b[90m━━━━━━━━━━━━━━━━━━━━━━━━━━━━━━━━━━━━━━━━\u001b[0m \u001b[32m104.2/104.2 kB\u001b[0m \u001b[31m2.4 MB/s\u001b[0m eta \u001b[36m0:00:00\u001b[0m\n",
            "\u001b[?25hInstalling collected packages: python-whois\n",
            "Successfully installed python-whois-0.9.5\n"
          ]
        }
      ],
      "source": [
        "!pip install python-whois"
      ]
    },
    {
      "cell_type": "code",
      "execution_count": 5,
      "id": "2a1ba8d3-bd2e-4456-83af-230b62af8f01",
      "metadata": {
        "id": "2a1ba8d3-bd2e-4456-83af-230b62af8f01"
      },
      "outputs": [],
      "source": [
        "import whois"
      ]
    },
    {
      "cell_type": "code",
      "execution_count": 6,
      "id": "2521f960-44da-40a2-b656-83d84e3972f8",
      "metadata": {
        "id": "2521f960-44da-40a2-b656-83d84e3972f8",
        "outputId": "fa5e68e8-6843-418c-8d45-fb9cb7fd7e14",
        "colab": {
          "base_uri": "https://localhost:8080/"
        }
      },
      "outputs": [
        {
          "output_type": "stream",
          "name": "stdout",
          "text": [
            "{\n",
            "  \"domain_name\": \"AIRLINEQUALITY.COM\",\n",
            "  \"registrar\": \"TUCOWS, INC.\",\n",
            "  \"registrar_url\": [\n",
            "    \"http://www.tucows.com\",\n",
            "    \"http://tucowsdomains.com\"\n",
            "  ],\n",
            "  \"reseller\": \"Namesco Limited\",\n",
            "  \"whois_server\": \"whois.tucows.com\",\n",
            "  \"referral_url\": null,\n",
            "  \"updated_date\": \"2024-01-26 08:58:03\",\n",
            "  \"creation_date\": \"2000-02-24 11:52:16\",\n",
            "  \"expiration_date\": \"2025-02-24 11:52:14\",\n",
            "  \"name_servers\": [\n",
            "    \"AMIR.NS.CLOUDFLARE.COM\",\n",
            "    \"CRUZ.NS.CLOUDFLARE.COM\"\n",
            "  ],\n",
            "  \"status\": [\n",
            "    \"clientTransferProhibited https://icann.org/epp#clientTransferProhibited\",\n",
            "    \"clientUpdateProhibited https://icann.org/epp#clientUpdateProhibited\"\n",
            "  ],\n",
            "  \"emails\": [\n",
            "    \"domainabuse@tucows.com\",\n",
            "    \"transfers@names.co.uk\"\n",
            "  ],\n",
            "  \"dnssec\": \"unsigned\",\n",
            "  \"name\": \"REDACTED FOR PRIVACY\",\n",
            "  \"org\": \"REDACTED FOR PRIVACY\",\n",
            "  \"address\": \"REDACTED FOR PRIVACY\",\n",
            "  \"city\": \"REDACTED FOR PRIVACY\",\n",
            "  \"state\": \"Greater London\",\n",
            "  \"registrant_postal_code\": \"REDACTED FOR PRIVACY\",\n",
            "  \"country\": \"GB\"\n",
            "}\n"
          ]
        }
      ],
      "source": [
        "print(whois.whois(website))"
      ]
    },
    {
      "cell_type": "code",
      "execution_count": 7,
      "id": "22d8ecb2-0c77-42d3-91f1-b6435fc2bdb9",
      "metadata": {
        "id": "22d8ecb2-0c77-42d3-91f1-b6435fc2bdb9"
      },
      "outputs": [],
      "source": [
        "import requests\n",
        "from bs4 import BeautifulSoup"
      ]
    },
    {
      "cell_type": "code",
      "execution_count": 8,
      "id": "209cfc1a-4de6-4346-868b-bf54fa720b64",
      "metadata": {
        "id": "209cfc1a-4de6-4346-868b-bf54fa720b64"
      },
      "outputs": [],
      "source": [
        "# https://www.airlinequality.com/airline-reviews/british-airways . This is the first page with all the reviews.\n",
        "\n",
        "# what we will need is:\n",
        "# Title\n",
        "# Name\n",
        "# Date\n",
        "# Review\n",
        "# Verification\n",
        "\n",
        "# This means our table will have 5 columns"
      ]
    },
    {
      "cell_type": "code",
      "execution_count": 9,
      "id": "8a952d57-a1d6-4ee4-9061-900d56bd95a8",
      "metadata": {
        "id": "8a952d57-a1d6-4ee4-9061-900d56bd95a8"
      },
      "outputs": [],
      "source": [
        "# Let's start with titles of page 1:\n",
        "url = \"https://www.airlinequality.com/airline-reviews/british-airways/page/1/\"\n",
        "response = requests.get(url) # request for page\n",
        "response.raise_for_status() # Checks if the page gives successful status (200)\n",
        "soup = BeautifulSoup(response.text, 'html')\n",
        "title = [h2.text.strip() for h2 in soup.find_all(\"h2\", class_=\"text_header\")]"
      ]
    },
    {
      "cell_type": "code",
      "execution_count": 10,
      "id": "494b6d0f-fe68-44c2-8bde-b479d88dc226",
      "metadata": {
        "id": "494b6d0f-fe68-44c2-8bde-b479d88dc226",
        "outputId": "b2f6c2b9-1d70-4ee6-db44-3a3d57bad66f",
        "colab": {
          "base_uri": "https://localhost:8080/"
        }
      },
      "outputs": [
        {
          "output_type": "stream",
          "name": "stdout",
          "text": [
            "['“customer support was terrible”', '\"a really enjoyable experience\"', '\"Very good flight\"', '\"relatively comfortable elderly plane\"', '\"70 days chasing BA’s complaints department\"', '\"BA refused to reimburse me\"', '\"the flight was delayed\"', '\"BA forced us to buy new tickets\"', '“staff had no sympathy or empathy”', '\"the seat is outdated\"']\n"
          ]
        }
      ],
      "source": [
        "print(title)"
      ]
    },
    {
      "cell_type": "code",
      "execution_count": 11,
      "id": "062c9da5-79a4-46f3-8454-641945324b4c",
      "metadata": {
        "id": "062c9da5-79a4-46f3-8454-641945324b4c"
      },
      "outputs": [],
      "source": [
        "# Great we now see that we can request, parse and display text details from our web page.\n",
        "# let's see all the other details across our requirements."
      ]
    },
    {
      "cell_type": "code",
      "execution_count": 12,
      "id": "97d8ea92-20d0-4693-91e1-85f31d2c84f8",
      "metadata": {
        "id": "97d8ea92-20d0-4693-91e1-85f31d2c84f8"
      },
      "outputs": [],
      "source": [
        "name = [span.text.strip() for span in soup.find_all(\"span\", itemprop=\"name\")] # takes all the names for the reviews submitted"
      ]
    },
    {
      "cell_type": "code",
      "execution_count": 13,
      "id": "ee97861f-3156-43b2-a636-4016c1162170",
      "metadata": {
        "id": "ee97861f-3156-43b2-a636-4016c1162170",
        "outputId": "8d39aa4f-b713-4b7d-f8d6-74f3aac39f25",
        "colab": {
          "base_uri": "https://localhost:8080/"
        }
      },
      "outputs": [
        {
          "output_type": "stream",
          "name": "stdout",
          "text": [
            "['L Martin', 'Paul Lee', 'Guy Senior', 'Simon Channon', 'R Layne', 'Michael Chastain', 'S Herron', 'G Marton', 'Raeesa Carrim', 'J Meares']\n"
          ]
        }
      ],
      "source": [
        "print(name)"
      ]
    },
    {
      "cell_type": "code",
      "execution_count": 14,
      "id": "56affcfc-01cb-41fa-89f9-044eb9ba5558",
      "metadata": {
        "id": "56affcfc-01cb-41fa-89f9-044eb9ba5558"
      },
      "outputs": [],
      "source": [
        "# Let's see if we can get the dates for page 1\n",
        "date = [(time[\"datetime\"], time.text.strip()) for time in soup.find_all(\"time\", itemprop=\"datePublished\")]"
      ]
    },
    {
      "cell_type": "code",
      "execution_count": 15,
      "id": "992f34c3-f082-4dec-82c8-94dabb6f3abc",
      "metadata": {
        "id": "992f34c3-f082-4dec-82c8-94dabb6f3abc",
        "outputId": "f5fb6656-3d74-4e0d-ea0e-97c41b8a737c",
        "colab": {
          "base_uri": "https://localhost:8080/"
        }
      },
      "outputs": [
        {
          "output_type": "stream",
          "name": "stdout",
          "text": [
            "[('2025-02-07', '7th February 2025'), ('2025-02-01', '1st February 2025'), ('2025-01-20', '20th January 2025'), ('2025-01-19', '19th January 2025'), ('2025-01-15', '15th January 2025'), ('2025-01-09', '9th January 2025'), ('2025-01-05', '5th January 2025'), ('2025-01-04', '4th January 2025'), ('2025-01-03', '3rd January 2025'), ('2025-01-01', '1st January 2025')]\n"
          ]
        }
      ],
      "source": [
        "print(date)"
      ]
    },
    {
      "cell_type": "code",
      "execution_count": 16,
      "id": "36bcabdc-a4b2-478b-93bb-afb5c050395a",
      "metadata": {
        "id": "36bcabdc-a4b2-478b-93bb-afb5c050395a"
      },
      "outputs": [],
      "source": [
        "# This will display all user verification if the trip is verified or not\n",
        "verification = [a.text.strip() for a in soup.find_all(\"a\", href=\"https://www.airlinequality.com/verified-reviews/\")]"
      ]
    },
    {
      "cell_type": "code",
      "execution_count": 17,
      "id": "6ec460b4-0926-4421-8cfd-c6ae5f2c9527",
      "metadata": {
        "id": "6ec460b4-0926-4421-8cfd-c6ae5f2c9527",
        "outputId": "f74e92b9-1dcb-4693-a46b-9ce7ed795a1d",
        "colab": {
          "base_uri": "https://localhost:8080/"
        }
      },
      "outputs": [
        {
          "output_type": "stream",
          "name": "stdout",
          "text": [
            "['Trip Verified', 'Trip Verified', 'Not Verified', 'Not Verified', 'Trip Verified', 'Trip Verified', 'Trip Verified', 'Trip Verified', 'Trip Verified', 'Trip Verified']\n"
          ]
        }
      ],
      "source": [
        "print(verification)"
      ]
    },
    {
      "cell_type": "code",
      "execution_count": 18,
      "id": "6bde24d2-014e-4ec7-a8d0-4ae08ca5b376",
      "metadata": {
        "id": "6bde24d2-014e-4ec7-a8d0-4ae08ca5b376"
      },
      "outputs": [],
      "source": [
        "# Now we have seen that we can get the data we need. We can create a scrape-bot for the pages 1-70 as our sample size"
      ]
    },
    {
      "cell_type": "code",
      "execution_count": 43,
      "id": "2ee9d681-efe2-46dc-a3f6-a5adf7f31114",
      "metadata": {
        "id": "2ee9d681-efe2-46dc-a3f6-a5adf7f31114",
        "outputId": "7249fe8b-98ac-4080-86b0-57ee52c43624",
        "colab": {
          "base_uri": "https://localhost:8080/"
        }
      },
      "outputs": [
        {
          "output_type": "stream",
          "name": "stdout",
          "text": [
            "<--- Reviews in page 1: 100\n",
            "<--- Reviews in page 2: 200\n",
            "<--- Reviews in page 3: 300\n",
            "<--- Reviews in page 4: 400\n",
            "<--- Reviews in page 5: 500\n",
            "<--- Reviews in page 6: 600\n",
            "<--- Reviews in page 7: 700\n",
            "<--- Reviews in page 8: 800\n",
            "<--- Reviews in page 9: 900\n",
            "<--- Reviews in page 10: 1000\n",
            "<--- Reviews in page 11: 1100\n",
            "<--- Reviews in page 12: 1200\n",
            "<--- Reviews in page 13: 1300\n",
            "<--- Reviews in page 14: 1400\n",
            "<--- Reviews in page 15: 1500\n",
            "<--- Reviews in page 16: 1600\n",
            "<--- Reviews in page 17: 1700\n",
            "<--- Reviews in page 18: 1800\n",
            "<--- Reviews in page 19: 1900\n",
            "<--- Reviews in page 20: 2000\n",
            "<--- Reviews in page 21: 2100\n",
            "<--- Reviews in page 22: 2200\n",
            "<--- Reviews in page 23: 2300\n",
            "<--- Reviews in page 24: 2400\n",
            "<--- Reviews in page 25: 2500\n",
            "<--- Reviews in page 26: 2600\n",
            "<--- Reviews in page 27: 2700\n",
            "<--- Reviews in page 28: 2800\n",
            "<--- Reviews in page 29: 2900\n",
            "<--- Reviews in page 30: 3000\n",
            "<--- Reviews in page 31: 3100\n",
            "<--- Reviews in page 32: 3200\n",
            "<--- Reviews in page 33: 3300\n",
            "<--- Reviews in page 34: 3400\n",
            "<--- Reviews in page 35: 3500\n",
            "<--- Reviews in page 36: 3600\n",
            "<--- Reviews in page 37: 3700\n",
            "<--- Reviews in page 38: 3800\n",
            "<--- Reviews in page 39: 3900\n",
            "<--- Reviews in page 40: 3913\n"
          ]
        }
      ],
      "source": [
        "# Scraper\n",
        "\n",
        "base_url = \"https://www.airlinequality.com/airline-reviews/british-airways\"\n",
        "pages = 40\n",
        "titles = []\n",
        "ratings = []\n",
        "names = []\n",
        "dates = []\n",
        "verification = []\n",
        "reviews = []\n",
        "\n",
        "# let's loop through our pages\n",
        "for i in range(1, pages+1):\n",
        "    page_url = f\"{base_url}/page/{i}/?sortby=post_date%3ADesc&pagesize=100\"\n",
        "    response = requests.get(page_url, timeout=10) # Make request\n",
        "    response.raise_for_status()\n",
        "    soup = BeautifulSoup(response.text, 'html') # Parsing\n",
        "\n",
        "    # Getting title data from the page and adding it to the list of titles\n",
        "    for h2 in soup.find_all(\"h2\", class_=\"text_header\"):\n",
        "        titles.append(h2.get_text())\n",
        "\n",
        "    # Getting name data from the page and adding it to the name list.\n",
        "    for span in soup.find_all(\"span\", itemprop=\"name\"):\n",
        "        names.append(span.get_text())\n",
        "\n",
        "    # Getting date data from the page and adding it to the list of dates.\n",
        "    for time in soup.find_all(\"time\", itemprop=\"datePublished\"):\n",
        "        dates.append(time.get_text())\n",
        "\n",
        "    # Getting verification data from the page and adding it to the verification list.\n",
        "    for a in soup.find_all(\"a\", href=\"https://www.airlinequality.com/verified-reviews/\"):\n",
        "        verification.append(a.get_text())\n",
        "\n",
        "    # Getting review data from the page and adding it to the list of reviews.\n",
        "    for div in soup.find_all(\"div\", itemprop=\"reviewBody\"):\n",
        "        reviews.append(div.get_text())\n",
        "\n",
        "    print(f\"<--- Reviews in page {i}: {len(reviews)}\")"
      ]
    },
    {
      "cell_type": "code",
      "execution_count": 44,
      "id": "450b5b1e-37fd-453a-9cab-c3f330d339f4",
      "metadata": {
        "id": "450b5b1e-37fd-453a-9cab-c3f330d339f4"
      },
      "outputs": [],
      "source": [
        "# Let's Update our dataframe with the values we scraped from the website pages\n",
        "\n",
        "import pandas as pd\n",
        "data = pd.DataFrame()\n",
        "data[\"Title\"] = titles\n",
        "data[\"Date\"] = dates\n",
        "data[\"Name\"] = names\n",
        "data[\"Reviews\"] = reviews"
      ]
    },
    {
      "cell_type": "code",
      "execution_count": 45,
      "id": "289c97f1-14c1-40e7-9742-ef25ba2187e6",
      "metadata": {
        "id": "289c97f1-14c1-40e7-9742-ef25ba2187e6",
        "outputId": "e8ff9fec-1547-4265-8a33-8ccabeaf5202",
        "colab": {
          "base_uri": "https://localhost:8080/",
          "height": 206
        }
      },
      "outputs": [
        {
          "output_type": "execute_result",
          "data": {
            "text/plain": [
              "                                          Title               Date  \\\n",
              "0               “customer support was terrible”  7th February 2025   \n",
              "1               \"a really enjoyable experience\"  1st February 2025   \n",
              "2                            \"Very good flight\"  20th January 2025   \n",
              "3        \"relatively comfortable elderly plane\"  19th January 2025   \n",
              "4  \"70 days chasing BA’s complaints department\"  15th January 2025   \n",
              "\n",
              "            Name                                            Reviews  \n",
              "0       L Martin  ✅ Trip Verified | Terrible overall, medium ser...  \n",
              "1       Paul Lee  ✅ Trip Verified |   London Heathrow to Male In...  \n",
              "2     Guy Senior  Not Verified |  Very good flight following an ...  \n",
              "3  Simon Channon  Not Verified |  An hour's delay due to late ar...  \n",
              "4        R Layne  ✅ Trip Verified |   I booked through BA becaus...  "
            ],
            "text/html": [
              "\n",
              "  <div id=\"df-eb1ad5e1-b268-4cd5-a329-18f3028e4f1a\" class=\"colab-df-container\">\n",
              "    <div>\n",
              "<style scoped>\n",
              "    .dataframe tbody tr th:only-of-type {\n",
              "        vertical-align: middle;\n",
              "    }\n",
              "\n",
              "    .dataframe tbody tr th {\n",
              "        vertical-align: top;\n",
              "    }\n",
              "\n",
              "    .dataframe thead th {\n",
              "        text-align: right;\n",
              "    }\n",
              "</style>\n",
              "<table border=\"1\" class=\"dataframe\">\n",
              "  <thead>\n",
              "    <tr style=\"text-align: right;\">\n",
              "      <th></th>\n",
              "      <th>Title</th>\n",
              "      <th>Date</th>\n",
              "      <th>Name</th>\n",
              "      <th>Reviews</th>\n",
              "    </tr>\n",
              "  </thead>\n",
              "  <tbody>\n",
              "    <tr>\n",
              "      <th>0</th>\n",
              "      <td>“customer support was terrible”</td>\n",
              "      <td>7th February 2025</td>\n",
              "      <td>L Martin</td>\n",
              "      <td>✅ Trip Verified | Terrible overall, medium ser...</td>\n",
              "    </tr>\n",
              "    <tr>\n",
              "      <th>1</th>\n",
              "      <td>\"a really enjoyable experience\"</td>\n",
              "      <td>1st February 2025</td>\n",
              "      <td>Paul Lee</td>\n",
              "      <td>✅ Trip Verified |   London Heathrow to Male In...</td>\n",
              "    </tr>\n",
              "    <tr>\n",
              "      <th>2</th>\n",
              "      <td>\"Very good flight\"</td>\n",
              "      <td>20th January 2025</td>\n",
              "      <td>Guy Senior</td>\n",
              "      <td>Not Verified |  Very good flight following an ...</td>\n",
              "    </tr>\n",
              "    <tr>\n",
              "      <th>3</th>\n",
              "      <td>\"relatively comfortable elderly plane\"</td>\n",
              "      <td>19th January 2025</td>\n",
              "      <td>Simon Channon</td>\n",
              "      <td>Not Verified |  An hour's delay due to late ar...</td>\n",
              "    </tr>\n",
              "    <tr>\n",
              "      <th>4</th>\n",
              "      <td>\"70 days chasing BA’s complaints department\"</td>\n",
              "      <td>15th January 2025</td>\n",
              "      <td>R Layne</td>\n",
              "      <td>✅ Trip Verified |   I booked through BA becaus...</td>\n",
              "    </tr>\n",
              "  </tbody>\n",
              "</table>\n",
              "</div>\n",
              "    <div class=\"colab-df-buttons\">\n",
              "\n",
              "  <div class=\"colab-df-container\">\n",
              "    <button class=\"colab-df-convert\" onclick=\"convertToInteractive('df-eb1ad5e1-b268-4cd5-a329-18f3028e4f1a')\"\n",
              "            title=\"Convert this dataframe to an interactive table.\"\n",
              "            style=\"display:none;\">\n",
              "\n",
              "  <svg xmlns=\"http://www.w3.org/2000/svg\" height=\"24px\" viewBox=\"0 -960 960 960\">\n",
              "    <path d=\"M120-120v-720h720v720H120Zm60-500h600v-160H180v160Zm220 220h160v-160H400v160Zm0 220h160v-160H400v160ZM180-400h160v-160H180v160Zm440 0h160v-160H620v160ZM180-180h160v-160H180v160Zm440 0h160v-160H620v160Z\"/>\n",
              "  </svg>\n",
              "    </button>\n",
              "\n",
              "  <style>\n",
              "    .colab-df-container {\n",
              "      display:flex;\n",
              "      gap: 12px;\n",
              "    }\n",
              "\n",
              "    .colab-df-convert {\n",
              "      background-color: #E8F0FE;\n",
              "      border: none;\n",
              "      border-radius: 50%;\n",
              "      cursor: pointer;\n",
              "      display: none;\n",
              "      fill: #1967D2;\n",
              "      height: 32px;\n",
              "      padding: 0 0 0 0;\n",
              "      width: 32px;\n",
              "    }\n",
              "\n",
              "    .colab-df-convert:hover {\n",
              "      background-color: #E2EBFA;\n",
              "      box-shadow: 0px 1px 2px rgba(60, 64, 67, 0.3), 0px 1px 3px 1px rgba(60, 64, 67, 0.15);\n",
              "      fill: #174EA6;\n",
              "    }\n",
              "\n",
              "    .colab-df-buttons div {\n",
              "      margin-bottom: 4px;\n",
              "    }\n",
              "\n",
              "    [theme=dark] .colab-df-convert {\n",
              "      background-color: #3B4455;\n",
              "      fill: #D2E3FC;\n",
              "    }\n",
              "\n",
              "    [theme=dark] .colab-df-convert:hover {\n",
              "      background-color: #434B5C;\n",
              "      box-shadow: 0px 1px 3px 1px rgba(0, 0, 0, 0.15);\n",
              "      filter: drop-shadow(0px 1px 2px rgba(0, 0, 0, 0.3));\n",
              "      fill: #FFFFFF;\n",
              "    }\n",
              "  </style>\n",
              "\n",
              "    <script>\n",
              "      const buttonEl =\n",
              "        document.querySelector('#df-eb1ad5e1-b268-4cd5-a329-18f3028e4f1a button.colab-df-convert');\n",
              "      buttonEl.style.display =\n",
              "        google.colab.kernel.accessAllowed ? 'block' : 'none';\n",
              "\n",
              "      async function convertToInteractive(key) {\n",
              "        const element = document.querySelector('#df-eb1ad5e1-b268-4cd5-a329-18f3028e4f1a');\n",
              "        const dataTable =\n",
              "          await google.colab.kernel.invokeFunction('convertToInteractive',\n",
              "                                                    [key], {});\n",
              "        if (!dataTable) return;\n",
              "\n",
              "        const docLinkHtml = 'Like what you see? Visit the ' +\n",
              "          '<a target=\"_blank\" href=https://colab.research.google.com/notebooks/data_table.ipynb>data table notebook</a>'\n",
              "          + ' to learn more about interactive tables.';\n",
              "        element.innerHTML = '';\n",
              "        dataTable['output_type'] = 'display_data';\n",
              "        await google.colab.output.renderOutput(dataTable, element);\n",
              "        const docLink = document.createElement('div');\n",
              "        docLink.innerHTML = docLinkHtml;\n",
              "        element.appendChild(docLink);\n",
              "      }\n",
              "    </script>\n",
              "  </div>\n",
              "\n",
              "\n",
              "<div id=\"df-3cc74eec-08b2-4150-b4b6-6e9eaceeb373\">\n",
              "  <button class=\"colab-df-quickchart\" onclick=\"quickchart('df-3cc74eec-08b2-4150-b4b6-6e9eaceeb373')\"\n",
              "            title=\"Suggest charts\"\n",
              "            style=\"display:none;\">\n",
              "\n",
              "<svg xmlns=\"http://www.w3.org/2000/svg\" height=\"24px\"viewBox=\"0 0 24 24\"\n",
              "     width=\"24px\">\n",
              "    <g>\n",
              "        <path d=\"M19 3H5c-1.1 0-2 .9-2 2v14c0 1.1.9 2 2 2h14c1.1 0 2-.9 2-2V5c0-1.1-.9-2-2-2zM9 17H7v-7h2v7zm4 0h-2V7h2v10zm4 0h-2v-4h2v4z\"/>\n",
              "    </g>\n",
              "</svg>\n",
              "  </button>\n",
              "\n",
              "<style>\n",
              "  .colab-df-quickchart {\n",
              "      --bg-color: #E8F0FE;\n",
              "      --fill-color: #1967D2;\n",
              "      --hover-bg-color: #E2EBFA;\n",
              "      --hover-fill-color: #174EA6;\n",
              "      --disabled-fill-color: #AAA;\n",
              "      --disabled-bg-color: #DDD;\n",
              "  }\n",
              "\n",
              "  [theme=dark] .colab-df-quickchart {\n",
              "      --bg-color: #3B4455;\n",
              "      --fill-color: #D2E3FC;\n",
              "      --hover-bg-color: #434B5C;\n",
              "      --hover-fill-color: #FFFFFF;\n",
              "      --disabled-bg-color: #3B4455;\n",
              "      --disabled-fill-color: #666;\n",
              "  }\n",
              "\n",
              "  .colab-df-quickchart {\n",
              "    background-color: var(--bg-color);\n",
              "    border: none;\n",
              "    border-radius: 50%;\n",
              "    cursor: pointer;\n",
              "    display: none;\n",
              "    fill: var(--fill-color);\n",
              "    height: 32px;\n",
              "    padding: 0;\n",
              "    width: 32px;\n",
              "  }\n",
              "\n",
              "  .colab-df-quickchart:hover {\n",
              "    background-color: var(--hover-bg-color);\n",
              "    box-shadow: 0 1px 2px rgba(60, 64, 67, 0.3), 0 1px 3px 1px rgba(60, 64, 67, 0.15);\n",
              "    fill: var(--button-hover-fill-color);\n",
              "  }\n",
              "\n",
              "  .colab-df-quickchart-complete:disabled,\n",
              "  .colab-df-quickchart-complete:disabled:hover {\n",
              "    background-color: var(--disabled-bg-color);\n",
              "    fill: var(--disabled-fill-color);\n",
              "    box-shadow: none;\n",
              "  }\n",
              "\n",
              "  .colab-df-spinner {\n",
              "    border: 2px solid var(--fill-color);\n",
              "    border-color: transparent;\n",
              "    border-bottom-color: var(--fill-color);\n",
              "    animation:\n",
              "      spin 1s steps(1) infinite;\n",
              "  }\n",
              "\n",
              "  @keyframes spin {\n",
              "    0% {\n",
              "      border-color: transparent;\n",
              "      border-bottom-color: var(--fill-color);\n",
              "      border-left-color: var(--fill-color);\n",
              "    }\n",
              "    20% {\n",
              "      border-color: transparent;\n",
              "      border-left-color: var(--fill-color);\n",
              "      border-top-color: var(--fill-color);\n",
              "    }\n",
              "    30% {\n",
              "      border-color: transparent;\n",
              "      border-left-color: var(--fill-color);\n",
              "      border-top-color: var(--fill-color);\n",
              "      border-right-color: var(--fill-color);\n",
              "    }\n",
              "    40% {\n",
              "      border-color: transparent;\n",
              "      border-right-color: var(--fill-color);\n",
              "      border-top-color: var(--fill-color);\n",
              "    }\n",
              "    60% {\n",
              "      border-color: transparent;\n",
              "      border-right-color: var(--fill-color);\n",
              "    }\n",
              "    80% {\n",
              "      border-color: transparent;\n",
              "      border-right-color: var(--fill-color);\n",
              "      border-bottom-color: var(--fill-color);\n",
              "    }\n",
              "    90% {\n",
              "      border-color: transparent;\n",
              "      border-bottom-color: var(--fill-color);\n",
              "    }\n",
              "  }\n",
              "</style>\n",
              "\n",
              "  <script>\n",
              "    async function quickchart(key) {\n",
              "      const quickchartButtonEl =\n",
              "        document.querySelector('#' + key + ' button');\n",
              "      quickchartButtonEl.disabled = true;  // To prevent multiple clicks.\n",
              "      quickchartButtonEl.classList.add('colab-df-spinner');\n",
              "      try {\n",
              "        const charts = await google.colab.kernel.invokeFunction(\n",
              "            'suggestCharts', [key], {});\n",
              "      } catch (error) {\n",
              "        console.error('Error during call to suggestCharts:', error);\n",
              "      }\n",
              "      quickchartButtonEl.classList.remove('colab-df-spinner');\n",
              "      quickchartButtonEl.classList.add('colab-df-quickchart-complete');\n",
              "    }\n",
              "    (() => {\n",
              "      let quickchartButtonEl =\n",
              "        document.querySelector('#df-3cc74eec-08b2-4150-b4b6-6e9eaceeb373 button');\n",
              "      quickchartButtonEl.style.display =\n",
              "        google.colab.kernel.accessAllowed ? 'block' : 'none';\n",
              "    })();\n",
              "  </script>\n",
              "</div>\n",
              "\n",
              "    </div>\n",
              "  </div>\n"
            ],
            "application/vnd.google.colaboratory.intrinsic+json": {
              "type": "dataframe",
              "variable_name": "data",
              "summary": "{\n  \"name\": \"data\",\n  \"rows\": 3913,\n  \"fields\": [\n    {\n      \"column\": \"Title\",\n      \"properties\": {\n        \"dtype\": \"string\",\n        \"num_unique_values\": 2884,\n        \"samples\": [\n          \"\\\"luggage was finally delivered on Thursday\\\"\",\n          \"\\\"no one to escort you to the seat\\\"\",\n          \"\\\"did not have a good experience\\\"\"\n        ],\n        \"semantic_type\": \"\",\n        \"description\": \"\"\n      }\n    },\n    {\n      \"column\": \"Date\",\n      \"properties\": {\n        \"dtype\": \"string\",\n        \"num_unique_values\": 1983,\n        \"samples\": [\n          \"6th June 2020\",\n          \"24th May 2014\",\n          \"23rd May 2017\"\n        ],\n        \"semantic_type\": \"\",\n        \"description\": \"\"\n      }\n    },\n    {\n      \"column\": \"Name\",\n      \"properties\": {\n        \"dtype\": \"string\",\n        \"num_unique_values\": 3072,\n        \"samples\": [\n          \"C Legard\",\n          \"Alexander Dangler\",\n          \"Chris Sansom\"\n        ],\n        \"semantic_type\": \"\",\n        \"description\": \"\"\n      }\n    },\n    {\n      \"column\": \"Reviews\",\n      \"properties\": {\n        \"dtype\": \"string\",\n        \"num_unique_values\": 3903,\n        \"samples\": [\n          \"Not Verified | Flew from London Heathrow to Abu Dhabi. Honestly, they were really good, legroom great, crew excellent - looked after us superbly, food and drinks were bang on, did Vegas in April too, nowt wrong with this airline.\",\n          \"Considering BA's fares were high to begin with and you had to purchase your seats to secure in advance we still booked on the advice of our British son in law. Plane is so large takes a long time to board and disembark. We flew Premium Economy, seats are bigger and have leg room but they're not comfortable for some reason. Flight crew was fine and professional. Inflight entertainment was fine but new movie selection was small. Cabin and seats were clean and neat. Inflight kit consisted of socks, ear plugs, mask, pen and tiny toothpaste and brush.  They offer pillows and blankets. But although the seats are wider, they weren't easy to get in and out of, and not just us a number of passengers contorted just to get out. The meals were fine, though served on a tiny tray loaded with food, the meal was pretty good. Not a lot of choices, to London, beef or pasta, from London back to LA, it was beef or fish. It was hot and there was a lot of food, a salad, small  cheese and  crackers. Roll butter and dessert but I'm not sure I'd say it was what BA's advertisement claims. It didn't feel it was a premium meal. They also served snacks but it was flashed on the overhead with no explanation of where to go to get the snacks. The entire plane was dark. The second meal was a breakfast, but not especially appealing. On the return to LA, it was a very odd casserole, rather dry and bland. The flight was smooth and arrived on time, coming back we were an hour late waiting as the pilot informed us of sixty passengers arriving late from Germany. They lost one of our suitcases enroute, we arrived on Thursday afternoon, the bag was delivered late Friday night to our hotel, no offer to help with expense of having to buy what was needed until bag was found. Not even an email or text, we finally asked the hotel who said it arrived midnight Friday, we weren't notified by BA until Saturday afternoon. We ended up spending quite a lot buying shirts, underwear and shorts to get by. If we'd known they had found the bag we wouldn't have spent the money. Poor communication on their part. Not an apology or sorry for the inconvenience. I guess they figured we should be grateful we got the bag at all. I doubt we'd fly BA again sadly I'd hoped for something special.\",\n          \"\\u2705 Verified Review |  Flight from Gatwick to Grenada return with British Airways. Lounge in south terminal was good flight and staff were good, decent food and the plane was clean. What I struggled to get my head around is after paying for business class flights, BA then expect you to pay an additional \\u00a377 per person each way to reserve seats. There were 4 of us traveling so that adds in excess of \\u00a3600 to our flight cost. BA will tell you that this is free 24 hours before departure but actually 3 days before departure most seats had gone. I would expect after paying for business class that you automatically get seated together but it appears not, as there was one couple on the return flight who had not reserved seats after paying for business class and were made to stand in the galley until everybody had boarded to if there were 2 seats together.\\r\\n\"\n        ],\n        \"semantic_type\": \"\",\n        \"description\": \"\"\n      }\n    }\n  ]\n}"
            }
          },
          "metadata": {},
          "execution_count": 45
        }
      ],
      "source": [
        "data.head()"
      ]
    },
    {
      "cell_type": "code",
      "source": [],
      "metadata": {
        "id": "instz-Uar5yg"
      },
      "id": "instz-Uar5yg",
      "execution_count": null,
      "outputs": []
    }
  ],
  "metadata": {
    "kernelspec": {
      "display_name": "Python 3 (ipykernel)",
      "language": "python",
      "name": "python3"
    },
    "language_info": {
      "codemirror_mode": {
        "name": "ipython",
        "version": 3
      },
      "file_extension": ".py",
      "mimetype": "text/x-python",
      "name": "python",
      "nbconvert_exporter": "python",
      "pygments_lexer": "ipython3",
      "version": "3.12.7"
    },
    "colab": {
      "provenance": []
    }
  },
  "nbformat": 4,
  "nbformat_minor": 5
}