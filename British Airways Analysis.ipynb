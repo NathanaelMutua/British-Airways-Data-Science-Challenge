{
 "cells": [
  {
   "cell_type": "code",
   "execution_count": 9,
   "id": "66cd5177-c666-45e7-a80d-e88e522f1739",
   "metadata": {},
   "outputs": [
    {
     "name": "stdout",
     "output_type": "stream",
     "text": [
      "Requirement already satisfied: builtwith in c:\\users\\user\\anaconda3\\lib\\site-packages (1.3.4)\n",
      "Requirement already satisfied: six in c:\\users\\user\\anaconda3\\lib\\site-packages (from builtwith) (1.16.0)\n"
     ]
    }
   ],
   "source": [
    "# Let's first see what technology the website uses using the 'builtwth' library\n",
    "!pip install builtwith"
   ]
  },
  {
   "cell_type": "code",
   "execution_count": 11,
   "id": "0b497df7-c2f7-470e-bc9f-ee15ce6a028e",
   "metadata": {},
   "outputs": [],
   "source": [
    "import builtwith"
   ]
  },
  {
   "cell_type": "code",
   "execution_count": 13,
   "id": "5aef7987-3a4b-4a15-8c77-5ec2509f2a3f",
   "metadata": {},
   "outputs": [
    {
     "name": "stdout",
     "output_type": "stream",
     "text": [
      "{'cdn': ['CloudFlare'], 'advertising-networks': ['Google AdSense'], 'font-scripts': ['Google Font API'], 'photo-galleries': ['Lightbox'], 'javascript-frameworks': ['Lightbox', 'Modernizr', 'jQuery'], 'cms': ['WordPress'], 'programming-languages': ['PHP'], 'blogs': ['PHP', 'WordPress'], 'marketing-automation': ['Yoast SEO'], 'web-frameworks': ['ZURB Foundation']}\n"
     ]
    }
   ],
   "source": [
    "website = \"https://www.airlinequality.com\"\n",
    "result = builtwith.parse(website)\n",
    "print(result)"
   ]
  },
  {
   "cell_type": "code",
   "execution_count": 15,
   "id": "71046aa5-4c82-46b5-919d-da1ba8bd0cea",
   "metadata": {},
   "outputs": [
    {
     "name": "stdout",
     "output_type": "stream",
     "text": [
      "Requirement already satisfied: python-whois in c:\\users\\user\\anaconda3\\lib\\site-packages (0.9.5)\n",
      "Requirement already satisfied: python-dateutil in c:\\users\\user\\anaconda3\\lib\\site-packages (from python-whois) (2.9.0.post0)\n",
      "Requirement already satisfied: six>=1.5 in c:\\users\\user\\anaconda3\\lib\\site-packages (from python-dateutil->python-whois) (1.16.0)\n"
     ]
    }
   ],
   "source": [
    "!pip install python-whois"
   ]
  },
  {
   "cell_type": "code",
   "execution_count": 17,
   "id": "2a1ba8d3-bd2e-4456-83af-230b62af8f01",
   "metadata": {},
   "outputs": [],
   "source": [
    "import whois"
   ]
  },
  {
   "cell_type": "code",
   "execution_count": 19,
   "id": "2521f960-44da-40a2-b656-83d84e3972f8",
   "metadata": {},
   "outputs": [
    {
     "name": "stdout",
     "output_type": "stream",
     "text": [
      "{\n",
      "  \"domain_name\": \"AIRLINEQUALITY.COM\",\n",
      "  \"registrar\": \"TUCOWS, INC.\",\n",
      "  \"registrar_url\": [\n",
      "    \"http://www.tucows.com\",\n",
      "    \"http://tucowsdomains.com\"\n",
      "  ],\n",
      "  \"reseller\": \"Namesco Limited\",\n",
      "  \"whois_server\": \"whois.tucows.com\",\n",
      "  \"referral_url\": null,\n",
      "  \"updated_date\": \"2024-01-26 08:58:03\",\n",
      "  \"creation_date\": \"2000-02-24 11:52:16\",\n",
      "  \"expiration_date\": \"2025-02-24 11:52:14\",\n",
      "  \"name_servers\": [\n",
      "    \"AMIR.NS.CLOUDFLARE.COM\",\n",
      "    \"CRUZ.NS.CLOUDFLARE.COM\"\n",
      "  ],\n",
      "  \"status\": [\n",
      "    \"clientTransferProhibited https://icann.org/epp#clientTransferProhibited\",\n",
      "    \"clientUpdateProhibited https://icann.org/epp#clientUpdateProhibited\"\n",
      "  ],\n",
      "  \"emails\": [\n",
      "    \"domainabuse@tucows.com\",\n",
      "    \"transfers@names.co.uk\"\n",
      "  ],\n",
      "  \"dnssec\": \"unsigned\",\n",
      "  \"name\": \"REDACTED FOR PRIVACY\",\n",
      "  \"org\": \"REDACTED FOR PRIVACY\",\n",
      "  \"address\": \"REDACTED FOR PRIVACY\",\n",
      "  \"city\": \"REDACTED FOR PRIVACY\",\n",
      "  \"state\": \"Greater London\",\n",
      "  \"registrant_postal_code\": \"REDACTED FOR PRIVACY\",\n",
      "  \"country\": \"GB\"\n",
      "}\n"
     ]
    }
   ],
   "source": [
    "print(whois.whois(website))"
   ]
  },
  {
   "cell_type": "code",
   "execution_count": 14,
   "id": "22d8ecb2-0c77-42d3-91f1-b6435fc2bdb9",
   "metadata": {},
   "outputs": [],
   "source": [
    "import requests\n",
    "from bs4 import BeautifulSoup"
   ]
  },
  {
   "cell_type": "code",
   "execution_count": 8,
   "id": "209cfc1a-4de6-4346-868b-bf54fa720b64",
   "metadata": {},
   "outputs": [],
   "source": [
    "# https://www.airlinequality.com/airline-reviews/british-airways . This is the first page with all the reviews.\n",
    "\n",
    "# what we will need is:\n",
    "# Title\n",
    "# Name\n",
    "# Date\n",
    "# Review\n",
    "# Verification\n",
    "\n",
    "# This means our table will have 5 columns"
   ]
  },
  {
   "cell_type": "code",
   "execution_count": 25,
   "id": "8a952d57-a1d6-4ee4-9061-900d56bd95a8",
   "metadata": {},
   "outputs": [],
   "source": [
    "# Let's start with titles of page 1:\n",
    "url = \"https://www.airlinequality.com/airline-reviews/british-airways/page/1/\"\n",
    "response = requests.get(url) # request for page\n",
    "response.raise_for_status() # Checks if the page gives successful status (200)\n",
    "soup = BeautifulSoup(response.text, 'html')\n",
    "title = [h2.text.strip() for h2 in soup.find_all(\"h2\", class_=\"text_header\")]"
   ]
  },
  {
   "cell_type": "code",
   "execution_count": 26,
   "id": "494b6d0f-fe68-44c2-8bde-b479d88dc226",
   "metadata": {},
   "outputs": [
    {
     "name": "stdout",
     "output_type": "stream",
     "text": [
      "['\"a really enjoyable experience\"', '\"Very good flight\"', '\"relatively comfortable elderly plane\"', '\"70 days chasing BA’s complaints department\"', '\"BA refused to reimburse me\"', '\"the flight was delayed\"', '\"BA forced us to buy new tickets\"', '“staff had no sympathy or empathy”', '\"the seat is outdated\"', '\"a national disgrace\"']\n"
     ]
    }
   ],
   "source": [
    "print(title)"
   ]
  },
  {
   "cell_type": "code",
   "execution_count": 29,
   "id": "062c9da5-79a4-46f3-8454-641945324b4c",
   "metadata": {},
   "outputs": [],
   "source": [
    "# Great we now see that we can request, parse and display text details from our web page.\n",
    "# let's see all the other details across our requirements."
   ]
  },
  {
   "cell_type": "code",
   "execution_count": 31,
   "id": "97d8ea92-20d0-4693-91e1-85f31d2c84f8",
   "metadata": {},
   "outputs": [],
   "source": [
    "name = [span.text.strip() for span in soup.find_all(\"span\", itemprop=\"name\")] # takes all the names for the reviews submitted"
   ]
  },
  {
   "cell_type": "code",
   "execution_count": 33,
   "id": "ee97861f-3156-43b2-a636-4016c1162170",
   "metadata": {},
   "outputs": [
    {
     "name": "stdout",
     "output_type": "stream",
     "text": [
      "['Paul Lee', 'Guy Senior', 'Simon Channon', 'R Layne', 'Michael Chastain', 'S Herron', 'G Marton', 'Raeesa Carrim', 'J Meares', 'Scott Fletcher']\n"
     ]
    }
   ],
   "source": [
    "print(name)"
   ]
  },
  {
   "cell_type": "code",
   "execution_count": 35,
   "id": "56affcfc-01cb-41fa-89f9-044eb9ba5558",
   "metadata": {},
   "outputs": [],
   "source": [
    "# Let's see if we can get the dates for page 1\n",
    "date = [(time[\"datetime\"], time.text.strip()) for time in soup.find_all(\"time\", itemprop=\"datePublished\")]"
   ]
  },
  {
   "cell_type": "code",
   "execution_count": 37,
   "id": "992f34c3-f082-4dec-82c8-94dabb6f3abc",
   "metadata": {},
   "outputs": [
    {
     "name": "stdout",
     "output_type": "stream",
     "text": [
      "[('2025-02-01', '1st February 2025'), ('2025-01-20', '20th January 2025'), ('2025-01-19', '19th January 2025'), ('2025-01-15', '15th January 2025'), ('2025-01-09', '9th January 2025'), ('2025-01-05', '5th January 2025'), ('2025-01-04', '4th January 2025'), ('2025-01-03', '3rd January 2025'), ('2025-01-01', '1st January 2025'), ('2024-12-17', '17th December 2024')]\n"
     ]
    }
   ],
   "source": [
    "print(date)"
   ]
  },
  {
   "cell_type": "code",
   "execution_count": 39,
   "id": "36bcabdc-a4b2-478b-93bb-afb5c050395a",
   "metadata": {},
   "outputs": [],
   "source": [
    "# This will display all user verification if the trip is verified or not\n",
    "verification = [a.text.strip() for a in soup.find_all(\"a\", href=\"https://www.airlinequality.com/verified-reviews/\")]"
   ]
  },
  {
   "cell_type": "code",
   "execution_count": 41,
   "id": "6ec460b4-0926-4421-8cfd-c6ae5f2c9527",
   "metadata": {},
   "outputs": [
    {
     "name": "stdout",
     "output_type": "stream",
     "text": [
      "['Trip Verified', 'Not Verified', 'Not Verified', 'Trip Verified', 'Trip Verified', 'Trip Verified', 'Trip Verified', 'Trip Verified', 'Trip Verified', 'Trip Verified']\n"
     ]
    }
   ],
   "source": [
    "print(verification)"
   ]
  },
  {
   "cell_type": "code",
   "execution_count": 4,
   "id": "6bde24d2-014e-4ec7-a8d0-4ae08ca5b376",
   "metadata": {},
   "outputs": [],
   "source": [
    "# Now we have seen that we can get the data we need. We can create a scrape-bot for the pages 1-70 as our sample size"
   ]
  },
  {
   "cell_type": "code",
   "execution_count": 32,
   "id": "2ee9d681-efe2-46dc-a3f6-a5adf7f31114",
   "metadata": {},
   "outputs": [
    {
     "name": "stdout",
     "output_type": "stream",
     "text": [
      "<--- Reviews in page 1: 100\n",
      "<--- Reviews in page 2: 200\n",
      "<--- Reviews in page 3: 300\n",
      "<--- Reviews in page 4: 400\n",
      "<--- Reviews in page 5: 500\n",
      "<--- Reviews in page 6: 600\n",
      "<--- Reviews in page 7: 700\n",
      "<--- Reviews in page 8: 800\n",
      "<--- Reviews in page 9: 900\n",
      "<--- Reviews in page 10: 1000\n",
      "<--- Reviews in page 11: 1100\n",
      "<--- Reviews in page 12: 1200\n",
      "<--- Reviews in page 13: 1300\n",
      "<--- Reviews in page 14: 1400\n",
      "<--- Reviews in page 15: 1500\n",
      "<--- Reviews in page 16: 1600\n",
      "<--- Reviews in page 17: 1700\n",
      "<--- Reviews in page 18: 1800\n",
      "<--- Reviews in page 19: 1900\n",
      "<--- Reviews in page 20: 2000\n",
      "<--- Reviews in page 21: 2100\n",
      "<--- Reviews in page 22: 2200\n",
      "<--- Reviews in page 23: 2300\n",
      "<--- Reviews in page 24: 2400\n",
      "<--- Reviews in page 25: 2500\n",
      "<--- Reviews in page 26: 2600\n",
      "<--- Reviews in page 27: 2700\n",
      "<--- Reviews in page 28: 2800\n",
      "<--- Reviews in page 29: 2900\n",
      "<--- Reviews in page 30: 3000\n",
      "<--- Reviews in page 31: 3100\n",
      "<--- Reviews in page 32: 3200\n",
      "<--- Reviews in page 33: 3300\n",
      "<--- Reviews in page 34: 3400\n",
      "<--- Reviews in page 35: 3500\n",
      "<--- Reviews in page 36: 3600\n",
      "<--- Reviews in page 37: 3700\n",
      "<--- Reviews in page 38: 3800\n",
      "<--- Reviews in page 39: 3900\n",
      "<--- Reviews in page 40: 3912\n"
     ]
    }
   ],
   "source": [
    "# Scraper \n",
    "\n",
    "base_url = \"https://www.airlinequality.com/airline-reviews/british-airways\"\n",
    "pages = 40\n",
    "titles = []\n",
    "ratings = []\n",
    "names = []\n",
    "dates = []\n",
    "verification = []\n",
    "reviews = []\n",
    "\n",
    "# let's loop through our pages\n",
    "for i in range(1, pages+1):\n",
    "    page_url = f\"{base_url}/page/{i}/?sortby=post_date%3ADesc&pagesize=100\"\n",
    "    response = requests.get(page_url, timeout=10) # Make request\n",
    "    response.raise_for_status()\n",
    "    soup = BeautifulSoup(response.text, 'html') # Parsing\n",
    "\n",
    "    # Getting title data from the page and adding it to the list of titles\n",
    "    for h2 in soup.find_all(\"h2\", class_=\"text_header\"):\n",
    "        titles.append(h2.get_text())\n",
    "    \n",
    "    # Getting name data from the page and adding it to the name list.\n",
    "    for span in soup.find_all(\"span\", itemprop=\"name\"):\n",
    "        names.append(span.get_text())\n",
    "\n",
    "    # Getting date data from the page and adding it to the list of dates.\n",
    "    for time in soup.find_all(\"time\", itemprop=\"datePublished\"):\n",
    "        dates.append(time.get_text())\n",
    "\n",
    "    # Getting verification data from the page and adding it to the verification list.\n",
    "    for a in soup.find_all(\"a\", href=\"https://www.airlinequality.com/verified-reviews/\"):\n",
    "        verification.append(a.get_text())\n",
    "        \n",
    "    # Getting review data from the page and adding it to the list of reviews.\n",
    "    for div in soup.find_all(\"div\", itemprop=\"reviewBody\"):\n",
    "        reviews.append(div.get_text())\n",
    "\n",
    "    print(f\"<--- Reviews in page {i}: {len(reviews)}\")"
   ]
  },
  {
   "cell_type": "code",
   "execution_count": 40,
   "id": "450b5b1e-37fd-453a-9cab-c3f330d339f4",
   "metadata": {},
   "outputs": [],
   "source": [
    "import pandas as pd\n",
    "data = pd.DataFrame()\n",
    "data[\"Title\", \"Date\", \"Name\", \"Verification\", \"Review\"] = [titles, dates, names, verification, reviews]"
   ]
  },
  {
   "cell_type": "code",
   "execution_count": 42,
   "id": "289c97f1-14c1-40e7-9742-ef25ba2187e6",
   "metadata": {},
   "outputs": [
    {
     "data": {
      "text/html": [
       "<div>\n",
       "<style scoped>\n",
       "    .dataframe tbody tr th:only-of-type {\n",
       "        vertical-align: middle;\n",
       "    }\n",
       "\n",
       "    .dataframe tbody tr th {\n",
       "        vertical-align: top;\n",
       "    }\n",
       "\n",
       "    .dataframe thead th {\n",
       "        text-align: right;\n",
       "    }\n",
       "</style>\n",
       "<table border=\"1\" class=\"dataframe\">\n",
       "  <thead>\n",
       "    <tr style=\"text-align: right;\">\n",
       "      <th></th>\n",
       "      <th>(Title, Date, Name, Verification, Review)</th>\n",
       "    </tr>\n",
       "  </thead>\n",
       "  <tbody>\n",
       "    <tr>\n",
       "      <th>0</th>\n",
       "      <td>[\"a really enjoyable experience\", \"Very good f...</td>\n",
       "    </tr>\n",
       "    <tr>\n",
       "      <th>1</th>\n",
       "      <td>[1st February 2025, 20th January 2025, 19th Ja...</td>\n",
       "    </tr>\n",
       "    <tr>\n",
       "      <th>2</th>\n",
       "      <td>[Paul Lee, Guy Senior, Simon Channon, R Layne,...</td>\n",
       "    </tr>\n",
       "    <tr>\n",
       "      <th>3</th>\n",
       "      <td>[Trip Verified, Not Verified, Not Verified, Tr...</td>\n",
       "    </tr>\n",
       "    <tr>\n",
       "      <th>4</th>\n",
       "      <td>[✅ Trip Verified |   London Heathrow to Male I...</td>\n",
       "    </tr>\n",
       "  </tbody>\n",
       "</table>\n",
       "</div>"
      ],
      "text/plain": [
       "           (Title, Date, Name, Verification, Review)\n",
       "0  [\"a really enjoyable experience\", \"Very good f...\n",
       "1  [1st February 2025, 20th January 2025, 19th Ja...\n",
       "2  [Paul Lee, Guy Senior, Simon Channon, R Layne,...\n",
       "3  [Trip Verified, Not Verified, Not Verified, Tr...\n",
       "4  [✅ Trip Verified |   London Heathrow to Male I..."
      ]
     },
     "execution_count": 42,
     "metadata": {},
     "output_type": "execute_result"
    }
   ],
   "source": [
    "data.head()"
   ]
  },
  {
   "cell_type": "code",
   "execution_count": 44,
   "id": "8473c8df-cb19-45b0-8d50-800836d51945",
   "metadata": {},
   "outputs": [
    {
     "name": "stdout",
     "output_type": "stream",
     "text": [
      "['Trip Verified', 'Not Verified', 'Not Verified', 'Trip Verified', 'Trip Verified', 'Trip Verified', 'Trip Verified', 'Trip Verified', 'Trip Verified', 'Trip Verified', 'Trip Verified', 'Trip Verified', 'Trip Verified', 'Trip Verified', 'Trip Verified', 'Trip Verified', 'Trip Verified', 'Not Verified', 'Trip Verified', 'Trip Verified', 'Not Verified', 'Trip Verified', 'Trip Verified', 'Trip Verified', 'Trip Verified', 'Trip Verified', 'Trip Verified', 'Trip Verified', 'Not Verified', 'Not Verified', 'Trip Verified', 'Not Verified', 'Not Verified', 'Trip Verified', 'Trip Verified', 'Trip Verified', 'Not Verified', 'Trip Verified', 'Trip Verified', 'Trip Verified', 'Trip Verified', 'Trip Verified', 'Trip Verified', 'Not Verified', 'Trip Verified', 'Trip Verified', 'Trip Verified', 'Trip Verified', 'Not Verified', 'Trip Verified', 'Not Verified', 'Not Verified', 'Not Verified', 'Not Verified', 'Not Verified', 'Trip Verified', 'Trip Verified', 'Trip Verified', 'Trip Verified', 'Not Verified', 'Trip Verified', 'Not Verified', 'Not Verified', 'Trip Verified', 'Not Verified', 'Not Verified', 'Trip Verified', 'Not Verified', 'Trip Verified', 'Not Verified', 'Not Verified', 'Trip Verified', 'Trip Verified', 'Trip Verified', 'Trip Verified', 'Not Verified', 'Trip Verified', 'Trip Verified', 'Trip Verified', 'Not Verified', 'Trip Verified', 'Not Verified', 'Trip Verified', 'Trip Verified', 'Trip Verified', 'Trip Verified', 'Trip Verified', 'Not Verified', 'Not Verified', 'Not Verified', 'Not Verified', 'Not Verified', 'Trip Verified', 'Trip Verified', 'Trip Verified', 'Trip Verified', 'Trip Verified', 'Not Verified', 'Trip Verified', 'Trip Verified', 'Trip Verified', 'Trip Verified', 'Trip Verified', 'Trip Verified', 'Trip Verified', 'Trip Verified', 'Not Verified', 'Trip Verified', 'Trip Verified', 'Trip Verified', 'Trip Verified', 'Trip Verified', 'Trip Verified', 'Trip Verified', 'Trip Verified', 'Trip Verified', 'Not Verified', 'Trip Verified', 'Trip Verified', 'Trip Verified', 'Trip Verified', 'Trip Verified', 'Trip Verified', 'Trip Verified', 'Trip Verified', 'Trip Verified', 'Trip Verified', 'Trip Verified', 'Not Verified', 'Not Verified', 'Trip Verified', 'Trip Verified', 'Trip Verified', 'Trip Verified', 'Not Verified', 'Trip Verified', 'Trip Verified', 'Not Verified', 'Not Verified', 'Trip Verified', 'Not Verified', 'Trip Verified', 'Trip Verified', 'Not Verified', 'Trip Verified', 'Trip Verified', 'Trip Verified', 'Not Verified', 'Trip Verified', 'Trip Verified', 'Not Verified', 'Not Verified', 'Trip Verified', 'Trip Verified', 'Trip Verified', 'Trip Verified', 'Trip Verified', 'Trip Verified', 'Trip Verified', 'Not Verified', 'Trip Verified', 'Not Verified', 'Trip Verified', 'Not Verified', 'Trip Verified', 'Not Verified', 'Trip Verified', 'Trip Verified', 'Trip Verified', 'Trip Verified', 'Trip Verified', 'Trip Verified', 'Trip Verified', 'Trip Verified', 'Not Verified', 'Not Verified', 'Not Verified', 'Trip Verified', 'Not Verified', 'Trip Verified', 'Trip Verified', 'Trip Verified', 'Not Verified', 'Trip Verified', 'Trip Verified', 'Trip Verified', 'Trip Verified', 'Not Verified', 'Trip Verified', 'Not Verified', 'Trip Verified', 'Trip Verified', 'Not Verified', 'Trip Verified', 'Not Verified', 'Not Verified', 'Trip Verified', 'Trip Verified', 'Trip Verified', 'Trip Verified', 'Trip Verified', 'Trip Verified', 'Trip Verified', 'Trip Verified', 'Trip Verified', 'Trip Verified', 'Trip Verified', 'Trip Verified', 'Trip Verified', 'Trip Verified', 'Trip Verified', 'Trip Verified', 'Not Verified', 'Trip Verified', 'Not Verified', 'Trip Verified', 'Trip Verified', 'Trip Verified', 'Not Verified', 'Trip Verified', 'Not Verified', 'Trip Verified', 'Trip Verified', 'Trip Verified', 'Not Verified', 'Not Verified', 'Not Verified', 'Not Verified', 'Trip Verified', 'Trip Verified', 'Not Verified', 'Trip Verified', 'Trip Verified', 'Trip Verified', 'Trip Verified', 'Trip Verified', 'Not Verified', 'Trip Verified', 'Trip Verified', 'Trip Verified', 'Trip Verified', 'Trip Verified', 'Trip Verified', 'Trip Verified', 'Not Verified', 'Not Verified', 'Trip Verified', 'Not Verified', 'Trip Verified', 'Trip Verified', 'Trip Verified', 'Trip Verified', 'Trip Verified', 'Trip Verified', 'Trip Verified', 'Trip Verified', 'Trip Verified', 'Not Verified', 'Not Verified', 'Not Verified', 'Trip Verified', 'Not Verified', 'Trip Verified', 'Trip Verified', 'Trip Verified', 'Not Verified', 'Not Verified', 'Trip Verified', 'Trip Verified', 'Trip Verified', 'Trip Verified', 'Trip Verified', 'Trip Verified', 'Trip Verified', 'Trip Verified', 'Trip Verified', 'Trip Verified', 'Trip Verified', 'Trip Verified', 'Trip Verified', 'Not Verified', 'Trip Verified', 'Trip Verified', 'Trip Verified', 'Trip Verified', 'Trip Verified', 'Trip Verified', 'Trip Verified', 'Not Verified', 'Not Verified', 'Trip Verified', 'Not Verified', 'Trip Verified', 'Trip Verified', 'Trip Verified', 'Trip Verified', 'Trip Verified', 'Trip Verified', 'Trip Verified', 'Trip Verified', 'Trip Verified', 'Trip Verified', 'Trip Verified', 'Not Verified', 'Trip Verified', 'Trip Verified', 'Not Verified', 'Trip Verified', 'Not Verified', 'Trip Verified', 'Trip Verified', 'Not Verified', 'Not Verified', 'Trip Verified', 'Trip Verified', 'Trip Verified', 'Not Verified', 'Trip Verified', 'Trip Verified', 'Trip Verified', 'Not Verified', 'Trip Verified', 'Trip Verified', 'Trip Verified', 'Not Verified', 'Trip Verified', 'Trip Verified', 'Trip Verified', 'Trip Verified', 'Trip Verified', 'Not Verified', 'Trip Verified', 'Trip Verified', 'Trip Verified', 'Trip Verified', 'Not Verified', 'Not Verified', 'Trip Verified', 'Not Verified', 'Trip Verified', 'Trip Verified', 'Trip Verified', 'Trip Verified', 'Trip Verified', 'Trip Verified', 'Trip Verified', 'Not Verified', 'Trip Verified', 'Trip Verified', 'Trip Verified', 'Trip Verified', 'Trip Verified', 'Trip Verified', 'Trip Verified', 'Trip Verified', 'Not Verified', 'Trip Verified', 'Trip Verified', 'Not Verified', 'Not Verified', 'Trip Verified', 'Trip Verified', 'Not Verified', 'Trip Verified', 'Trip Verified', 'Trip Verified', 'Trip Verified', 'Not Verified', 'Trip Verified', 'Trip Verified', 'Trip Verified', 'Trip Verified', 'Trip Verified', 'Trip Verified', 'Not Verified', 'Not Verified', 'Not Verified', 'Trip Verified', 'Trip Verified', 'Trip Verified', 'Not Verified', 'Not Verified', 'Trip Verified', 'Trip Verified', 'Trip Verified', 'Trip Verified', 'Trip Verified', 'Not Verified', 'Trip Verified', 'Trip Verified', 'Trip Verified', 'Trip Verified', 'Trip Verified', 'Not Verified', 'Trip Verified', 'Trip Verified', 'Trip Verified', 'Trip Verified', 'Trip Verified', 'Not Verified', 'Trip Verified', 'Not Verified', 'Not Verified', 'Not Verified', 'Not Verified', 'Trip Verified', 'Trip Verified', 'Trip Verified', 'Trip Verified', 'Trip Verified', 'Not Verified', 'Trip Verified', 'Trip Verified', 'Trip Verified', 'Not Verified', 'Trip Verified', 'Not Verified', 'Not Verified', 'Trip Verified', 'Not Verified', 'Trip Verified', 'Trip Verified', 'Trip Verified', 'Trip Verified', 'Not Verified', 'Trip Verified', 'Trip Verified', 'Trip Verified', 'Not Verified', 'Trip Verified', 'Trip Verified', 'Trip Verified', 'Trip Verified', 'Trip Verified', 'Trip Verified', 'Trip Verified', 'Trip Verified', 'Trip Verified', 'Trip Verified', 'Trip Verified', 'Trip Verified', 'Trip Verified', 'Trip Verified', 'Trip Verified', 'Trip Verified', 'Trip Verified', 'Trip Verified', 'Trip Verified', 'Trip Verified', 'Trip Verified', 'Trip Verified', 'Not Verified', 'Not Verified', 'Trip Verified', 'Trip Verified', 'Trip Verified', 'Not Verified', 'Trip Verified', 'Not Verified', 'Not Verified', 'Trip Verified', 'Trip Verified', 'Trip Verified', 'Trip Verified', 'Not Verified', 'Trip Verified', 'Trip Verified', 'Trip Verified', 'Trip Verified', 'Trip Verified', 'Trip Verified', 'Not Verified', 'Not Verified', 'Trip Verified', 'Not Verified', 'Trip Verified', 'Trip Verified', 'Trip Verified', 'Not Verified', 'Trip Verified', 'Trip Verified', 'Trip Verified', 'Trip Verified', 'Trip Verified', 'Trip Verified', 'Trip Verified', 'Trip Verified', 'Trip Verified', 'Trip Verified', 'Trip Verified', 'Trip Verified', 'Trip Verified', 'Trip Verified', 'Not Verified', 'Trip Verified', 'Trip Verified', 'Trip Verified', 'Trip Verified', 'Trip Verified', 'Not Verified', 'Trip Verified', 'Trip Verified', 'Trip Verified', 'Trip Verified', 'Trip Verified', 'Trip Verified', 'Trip Verified', 'Trip Verified', 'Not Verified', 'Trip Verified', 'Trip Verified', 'Not Verified', 'Trip Verified', 'Trip Verified', 'Not Verified', 'Trip Verified', 'Trip Verified', 'Trip Verified', 'Trip Verified', 'Trip Verified', 'Not Verified', 'Trip Verified', 'Not Verified', 'Trip Verified', 'Trip Verified', 'Not Verified', 'Not Verified', 'Trip Verified', 'Not Verified', 'Trip Verified', 'Trip Verified', 'Not Verified', 'Trip Verified', 'Trip Verified', 'Trip Verified', 'Trip Verified', 'Trip Verified', 'Not Verified', 'Not Verified', 'Not Verified', 'Trip Verified', 'Trip Verified', 'Trip Verified', 'Trip Verified', 'Trip Verified', 'Trip Verified', 'Trip Verified', 'Not Verified', 'Not Verified', 'Trip Verified', 'Trip Verified', 'Trip Verified', 'Not Verified', 'Trip Verified', 'Trip Verified', 'Not Verified', 'Not Verified', 'Not Verified', 'Not Verified', 'Trip Verified', 'Not Verified', 'Not Verified', 'Not Verified', 'Not Verified', 'Not Verified', 'Not Verified', 'Trip Verified', 'Trip Verified', 'Not Verified', 'Trip Verified', 'Trip Verified', 'Trip Verified', 'Not Verified', 'Not Verified', 'Trip Verified', 'Trip Verified', 'Trip Verified', 'Not Verified', 'Not Verified', 'Trip Verified', 'Trip Verified', 'Trip Verified', 'Trip Verified', 'Trip Verified', 'Not Verified', 'Trip Verified', 'Not Verified', 'Trip Verified', 'Trip Verified', 'Not Verified', 'Not Verified', 'Trip Verified', 'Trip Verified', 'Not Verified', 'Trip Verified', 'Trip Verified', 'Not Verified', 'Trip Verified', 'Trip Verified', 'Not Verified', 'Not Verified', 'Trip Verified', 'Trip Verified', 'Not Verified', 'Trip Verified', 'Trip Verified', 'Not Verified', 'Trip Verified', 'Trip Verified', 'Not Verified', 'Not Verified', 'Not Verified', 'Trip Verified', 'Trip Verified', 'Not Verified', 'Trip Verified', 'Not Verified', 'Not Verified', 'Trip Verified', 'Trip Verified', 'Trip Verified', 'Trip Verified', 'Not Verified', 'Not Verified', 'Trip Verified', 'Trip Verified', 'Trip Verified', 'Not Verified', 'Trip Verified', 'Trip Verified', 'Trip Verified', 'Not Verified', 'Not Verified', 'Trip Verified', 'Not Verified', 'Trip Verified', 'Trip Verified', 'Trip Verified', 'Not Verified', 'Not Verified', 'Trip Verified', 'Trip Verified', 'Trip Verified', 'Not Verified', 'Trip Verified', 'Trip Verified', 'Trip Verified', 'Trip Verified', 'Trip Verified', 'Trip Verified', 'Trip Verified', 'Trip Verified', 'Trip Verified', 'Trip Verified', 'Trip Verified', 'Not Verified', 'Trip Verified', 'Trip Verified', 'Not Verified', 'Trip Verified', 'Trip Verified', 'Trip Verified', 'Trip Verified', 'Not Verified', 'Trip Verified', 'Trip Verified', 'Not Verified', 'Not Verified', 'Trip Verified', 'Trip Verified', 'Trip Verified', 'Trip Verified', 'Trip Verified', 'Trip Verified', 'Not Verified', 'Trip Verified', 'Trip Verified', 'Trip Verified', 'Trip Verified', 'Trip Verified', 'Not Verified', 'Trip Verified', 'Trip Verified', 'Trip Verified', 'Trip Verified', 'Trip Verified', 'Trip Verified', 'Trip Verified', 'Trip Verified', 'Trip Verified', 'Trip Verified', 'Trip Verified', 'Trip Verified', 'Trip Verified', 'Trip Verified', 'Trip Verified', 'Not Verified', 'Trip Verified', 'Not Verified', 'Trip Verified', 'Trip Verified', 'Trip Verified', 'Trip Verified', 'Not Verified', 'Not Verified', 'Trip Verified', 'Trip Verified', 'Trip Verified', 'Trip Verified', 'Not Verified', 'Trip Verified', 'Trip Verified', 'Not Verified', 'Trip Verified', 'Trip Verified', 'Trip Verified', 'Not Verified', 'Trip Verified', 'Trip Verified', 'Trip Verified', 'Not Verified', 'Trip Verified', 'Trip Verified', 'Trip Verified', 'Not Verified', 'Trip Verified', 'Trip Verified', 'Trip Verified', 'Trip Verified', 'Trip Verified', 'Trip Verified', 'Trip Verified', 'Trip Verified', 'Trip Verified', 'Trip Verified', 'Trip Verified', 'Trip Verified', 'Trip Verified', 'Trip Verified', 'Trip Verified', 'Trip Verified', 'Trip Verified', 'Trip Verified', 'Trip Verified', 'Trip Verified', 'Trip Verified', 'Not Verified', 'Not Verified', 'Not Verified', 'Trip Verified', 'Not Verified', 'Trip Verified', 'Trip Verified', 'Trip Verified', 'Trip Verified', 'Trip Verified', 'Trip Verified', 'Trip Verified', 'Trip Verified', 'Trip Verified', 'Trip Verified', 'Not Verified', 'Trip Verified', 'Not Verified', 'Not Verified', 'Not Verified', 'Not Verified', 'Trip Verified', 'Trip Verified', 'Trip Verified', 'Not Verified', 'Not Verified', 'Trip Verified', 'Trip Verified', 'Trip Verified', 'Trip Verified', 'Trip Verified', 'Trip Verified', 'Trip Verified', 'Trip Verified', 'Trip Verified', 'Trip Verified', 'Trip Verified', 'Trip Verified', 'Trip Verified', 'Not Verified', 'Trip Verified', 'Trip Verified', 'Not Verified', 'Trip Verified', 'Trip Verified', 'Trip Verified', 'Trip Verified', 'Trip Verified', 'Trip Verified', 'Trip Verified', 'Not Verified', 'Trip Verified', 'Trip Verified', 'Trip Verified', 'Not Verified', 'Trip Verified', 'Trip Verified', 'Not Verified', 'Not Verified', 'Trip Verified', 'Trip Verified', 'Not Verified', 'Trip Verified', 'Trip Verified', 'Not Verified', 'Trip Verified', 'Trip Verified', 'Trip Verified', 'Trip Verified', 'Trip Verified', 'Trip Verified', 'Trip Verified', 'Trip Verified', 'Trip Verified', 'Not Verified', 'Trip Verified', 'Trip Verified', 'Trip Verified', 'Trip Verified', 'Trip Verified', 'Not Verified', 'Trip Verified', 'Trip Verified', 'Trip Verified', 'Trip Verified', 'Trip Verified', 'Trip Verified', 'Trip Verified', 'Trip Verified', 'Trip Verified', 'Trip Verified', 'Trip Verified', 'Not Verified', 'Trip Verified', 'Trip Verified', 'Trip Verified', 'Trip Verified', 'Trip Verified', 'Trip Verified', 'Trip Verified', 'Trip Verified', 'Trip Verified', 'Trip Verified', 'Not Verified', 'Not Verified', 'Not Verified', 'Trip Verified', 'Not Verified', 'Trip Verified', 'Trip Verified', 'Trip Verified', 'Trip Verified', 'Trip Verified', 'Not Verified', 'Not Verified', 'Trip Verified', 'Trip Verified', 'Not Verified', 'Trip Verified', 'Trip Verified', 'Trip Verified', 'Trip Verified', 'Trip Verified', 'Trip Verified', 'Not Verified', 'Not Verified', 'Trip Verified', 'Trip Verified', 'Trip Verified', 'Trip Verified', 'Trip Verified', 'Trip Verified', 'Trip Verified', 'Not Verified', 'Trip Verified', 'Trip Verified', 'Not Verified', 'Not Verified', 'Trip Verified', 'Trip Verified', 'Trip Verified', 'Trip Verified', 'Trip Verified', 'Trip Verified', 'Not Verified', 'Trip Verified', 'Trip Verified', 'Trip Verified', 'Trip Verified', 'Trip Verified', 'Not Verified', 'Trip Verified', 'Not Verified', 'Trip Verified', 'Not Verified', 'Trip Verified', 'Trip Verified', 'Trip Verified', 'Trip Verified', 'Trip Verified', 'Trip Verified', 'Trip Verified', 'Trip Verified', 'Trip Verified', 'Not Verified', 'Trip Verified', 'Trip Verified', 'Trip Verified', 'Trip Verified', 'Not Verified', 'Trip Verified', 'Trip Verified', 'Trip Verified', 'Trip Verified', 'Trip Verified', 'Trip Verified', 'Trip Verified', 'Trip Verified', 'Trip Verified', 'Not Verified', 'Trip Verified', 'Trip Verified', 'Not Verified', 'Trip Verified', 'Trip Verified', 'Trip Verified', 'Trip Verified', 'Trip Verified', 'Trip Verified', 'Trip Verified', 'Trip Verified', 'Trip Verified', 'Not Verified', 'Trip Verified', 'Not Verified', 'Trip Verified', 'Trip Verified', 'Trip Verified', 'Trip Verified', 'Not Verified', 'Trip Verified', 'Trip Verified', 'Trip Verified', 'Trip Verified', 'Trip Verified', 'Not Verified', 'Not Verified', 'Trip Verified', 'Trip Verified', 'Trip Verified', 'Not Verified', 'Not Verified', 'Not Verified', 'Trip Verified', 'Trip Verified', 'Not Verified', 'Trip Verified', 'Not Verified', 'Trip Verified', 'Not Verified', 'Trip Verified', 'Trip Verified', 'Trip Verified', 'Trip Verified', 'Trip Verified', 'Trip Verified', 'Not Verified', 'Trip Verified', 'Trip Verified', 'Trip Verified', 'Trip Verified', 'Trip Verified', 'Trip Verified', 'Trip Verified', 'Trip Verified', 'Trip Verified', 'Trip Verified', 'Not Verified', 'Trip Verified', 'Trip Verified', 'Trip Verified', 'Not Verified', 'Trip Verified', 'Not Verified', 'Trip Verified', 'Trip Verified', 'Trip Verified', 'Trip Verified', 'Not Verified', 'Not Verified', 'Trip Verified', 'Trip Verified', 'Trip Verified', 'Not Verified', 'Trip Verified', 'Trip Verified', 'Trip Verified', 'Trip Verified', 'Not Verified', 'Trip Verified', 'Trip Verified', 'Trip Verified', 'Trip Verified', 'Trip Verified', 'Trip Verified', 'Trip Verified', 'Not Verified', 'Trip Verified', 'Not Verified', 'Trip Verified', 'Trip Verified', 'Trip Verified', 'Not Verified', 'Trip Verified', 'Not Verified', 'Trip Verified', 'Not Verified', 'Trip Verified', 'Trip Verified', 'Trip Verified', 'Trip Verified', 'Trip Verified', 'Trip Verified', 'Trip Verified', 'Trip Verified', 'Trip Verified', 'Trip Verified', 'Trip Verified', 'Trip Verified', 'Trip Verified', 'Trip Verified', 'Trip Verified', 'Trip Verified', 'Trip Verified', 'Trip Verified', 'Trip Verified', 'Trip Verified', 'Trip Verified', 'Trip Verified', 'Not Verified', 'Trip Verified', 'Trip Verified', 'Trip Verified', 'Trip Verified', 'Trip Verified', 'Trip Verified', 'Trip Verified', 'Trip Verified', 'Trip Verified', 'Trip Verified', 'Trip Verified', 'Trip Verified', 'Trip Verified', 'Trip Verified', 'Trip Verified', 'Trip Verified', 'Trip Verified', 'Trip Verified', 'Trip Verified', 'Not Verified', 'Not Verified', 'Trip Verified', 'Not Verified', 'Trip Verified', 'Trip Verified', 'Trip Verified', 'Trip Verified', 'Trip Verified', 'Trip Verified', 'Trip Verified', 'Trip Verified', 'Trip Verified', 'Trip Verified', 'Trip Verified', 'Trip Verified', 'Not Verified', 'Trip Verified', 'Trip Verified', 'Trip Verified', 'Trip Verified', 'Trip Verified', 'Trip Verified', 'Trip Verified', 'Trip Verified', 'Trip Verified', 'Trip Verified', 'Trip Verified', 'Trip Verified', 'Trip Verified', 'Trip Verified', 'Trip Verified', 'Trip Verified', 'Trip Verified', 'Trip Verified', 'Trip Verified', 'Trip Verified', 'Trip Verified', 'Trip Verified', 'Trip Verified', 'Trip Verified', 'Trip Verified', 'Trip Verified', 'Trip Verified', 'Trip Verified', 'Trip Verified', 'Trip Verified', 'Trip Verified', 'Not Verified', 'Trip Verified', 'Trip Verified', 'Trip Verified', 'Trip Verified', 'Not Verified', 'Trip Verified', 'Trip Verified', 'Trip Verified', 'Trip Verified', 'Trip Verified', 'Trip Verified', 'Not Verified', 'Trip Verified', 'Trip Verified', 'Trip Verified', 'Trip Verified', 'Trip Verified', 'Trip Verified', 'Trip Verified', 'Trip Verified', 'Trip Verified', 'Trip Verified', 'Trip Verified', 'Trip Verified', 'Trip Verified', 'Trip Verified', 'Trip Verified', 'Trip Verified', 'Trip Verified', 'Trip Verified', 'Trip Verified', 'Trip Verified', 'Trip Verified', 'Trip Verified', 'Trip Verified', 'Trip Verified', 'Trip Verified', 'Trip Verified', 'Trip Verified', 'Trip Verified', 'Trip Verified', 'Trip Verified', 'Trip Verified', 'Not Verified', 'Trip Verified', 'Trip Verified', 'Trip Verified', 'Trip Verified', 'Trip Verified', 'Trip Verified', 'Trip Verified', 'Trip Verified', 'Trip Verified', 'Trip Verified', 'Trip Verified', 'Trip Verified', 'Trip Verified', 'Trip Verified', 'Not Verified', 'Trip Verified', 'Trip Verified', 'Trip Verified', 'Trip Verified', 'Trip Verified', 'Trip Verified', 'Trip Verified', 'Trip Verified', 'Trip Verified', 'Trip Verified', 'Trip Verified', 'Trip Verified', 'Trip Verified', 'Trip Verified', 'Trip Verified', 'Trip Verified', 'Not Verified', 'Trip Verified', 'Trip Verified', 'Trip Verified', 'Trip Verified', 'Trip Verified', 'Trip Verified', 'Trip Verified', 'Trip Verified', 'Trip Verified', 'Trip Verified', 'Trip Verified', 'Trip Verified', 'Trip Verified', 'Trip Verified', 'Trip Verified', 'Trip Verified', 'Trip Verified', 'Trip Verified', 'Trip Verified', 'Trip Verified', 'Trip Verified', 'Trip Verified', 'Trip Verified', 'Trip Verified', 'Trip Verified', 'Trip Verified', 'Trip Verified', 'Trip Verified', 'Trip Verified', 'Trip Verified', 'Trip Verified', 'Trip Verified', 'Trip Verified', 'Trip Verified', 'Not Verified', 'Trip Verified', 'Trip Verified', 'Trip Verified', 'Trip Verified', 'Trip Verified', 'Trip Verified', 'Trip Verified', 'Trip Verified', 'Trip Verified', 'Trip Verified', 'Trip Verified', 'Trip Verified', 'Trip Verified', 'Trip Verified', 'Trip Verified', 'Trip Verified', 'Trip Verified', 'Trip Verified', 'Trip Verified', 'Trip Verified', 'Trip Verified', 'Trip Verified', 'Not Verified', 'Trip Verified', 'Trip Verified', 'Trip Verified', 'Trip Verified', 'Trip Verified', 'Trip Verified', 'Trip Verified', 'Trip Verified', 'Trip Verified', 'Trip Verified', 'Trip Verified', 'Trip Verified', 'Trip Verified', 'Trip Verified', 'Trip Verified', 'Trip Verified', 'Trip Verified', 'Trip Verified', 'Trip Verified', 'Trip Verified', 'Trip Verified', 'Trip Verified', 'Trip Verified', 'Trip Verified', 'Trip Verified', 'Trip Verified', 'Trip Verified', 'Trip Verified', 'Trip Verified', 'Trip Verified', 'Trip Verified', 'Trip Verified', 'Trip Verified', 'Trip Verified', 'Trip Verified', 'Trip Verified', 'Trip Verified', 'Not Verified', 'Not Verified', 'Trip Verified', 'Trip Verified', 'Trip Verified', 'Not Verified', 'Trip Verified', 'Trip Verified', 'Trip Verified', 'Trip Verified', 'Trip Verified', 'Trip Verified', 'Trip Verified', 'Trip Verified', 'Trip Verified', 'Trip Verified', 'Not Verified', 'Trip Verified', 'Trip Verified', 'Trip Verified', 'Trip Verified', 'Trip Verified', 'Not Verified', 'Trip Verified', 'Trip Verified', 'Trip Verified', 'Trip Verified', 'Trip Verified', 'Trip Verified', 'Trip Verified', 'Trip Verified', 'Not Verified', 'Trip Verified', 'Trip Verified', 'Trip Verified', 'Trip Verified', 'Trip Verified', 'Trip Verified', 'Trip Verified', 'Trip Verified', 'Trip Verified', 'Trip Verified', 'Trip Verified', 'Trip Verified', 'Trip Verified', 'Trip Verified', 'Trip Verified', 'Trip Verified', 'Trip Verified', 'Trip Verified', 'Trip Verified', 'Trip Verified', 'Trip Verified', 'Trip Verified', 'Trip Verified', 'Trip Verified', 'Trip Verified', 'Trip Verified', 'Trip Verified', 'Trip Verified', 'Trip Verified', 'Trip Verified', 'Trip Verified', 'Trip Verified', 'Trip Verified', 'Trip Verified', 'Trip Verified', 'Trip Verified', 'Trip Verified', 'Trip Verified', 'Trip Verified', 'Trip Verified', 'Trip Verified', 'Trip Verified', 'Trip Verified', 'Trip Verified', 'Trip Verified', 'Trip Verified', 'Trip Verified', 'Trip Verified', 'Trip Verified', 'Trip Verified', 'Trip Verified', 'Trip Verified', 'Trip Verified', 'Trip Verified', 'Trip Verified', 'Trip Verified', 'Trip Verified', 'Trip Verified', 'Trip Verified', 'Trip Verified', 'Trip Verified', 'Trip Verified', 'Trip Verified', 'Trip Verified', 'Trip Verified', 'Trip Verified', 'Trip Verified', 'Not Verified', 'Not Verified', 'Trip Verified', 'Trip Verified', 'Trip Verified', 'Not Verified', 'Trip Verified', 'Trip Verified', 'Trip Verified', 'Trip Verified', 'Trip Verified', 'Trip Verified', 'Trip Verified', 'Trip Verified', 'Trip Verified', 'Trip Verified', 'Trip Verified', 'Trip Verified', 'Trip Verified', 'Trip Verified', 'Trip Verified', 'Trip Verified', 'Trip Verified', 'Trip Verified', 'Trip Verified', 'Trip Verified', 'Trip Verified', 'Trip Verified', 'Trip Verified', 'Trip Verified', 'Trip Verified', 'Trip Verified', 'Trip Verified', 'Trip Verified', 'Trip Verified', 'Trip Verified', 'Trip Verified', 'Trip Verified', 'Trip Verified', 'Trip Verified', 'Trip Verified', 'Trip Verified', 'Trip Verified', 'Trip Verified', 'Trip Verified', 'Trip Verified', 'Trip Verified', 'Trip Verified', 'Trip Verified', 'Trip Verified', 'Trip Verified', 'Trip Verified', 'Trip Verified', 'Trip Verified', 'Trip Verified', 'Trip Verified', 'Trip Verified', 'Trip Verified', 'Trip Verified', 'Trip Verified', 'Trip Verified', 'Trip Verified', 'Trip Verified', 'Trip Verified', 'Trip Verified', 'Trip Verified', 'Trip Verified', 'Trip Verified', 'Trip Verified', 'Trip Verified', 'Trip Verified', 'Trip Verified', 'Trip Verified', 'Trip Verified', 'Trip Verified', 'Trip Verified', 'Trip Verified', 'Trip Verified', 'Trip Verified', 'Trip Verified', 'Trip Verified', 'Trip Verified', 'Trip Verified', 'Trip Verified', 'Trip Verified', 'Trip Verified', 'Trip Verified', 'Trip Verified', 'Trip Verified', 'Trip Verified', 'Trip Verified', 'Trip Verified', 'Trip Verified', 'Trip Verified', 'Trip Verified', 'Trip Verified', 'Trip Verified', 'Trip Verified', 'Trip Verified', 'Trip Verified', 'Trip Verified', 'Trip Verified', 'Trip Verified', 'Trip Verified', 'Trip Verified', 'Trip Verified', 'Trip Verified', 'Trip Verified', 'Trip Verified', 'Trip Verified', 'Trip Verified', 'Trip Verified', 'Trip Verified', 'Trip Verified', 'Trip Verified', 'Trip Verified', 'Trip Verified', 'Trip Verified', 'Trip Verified', 'Trip Verified', 'Trip Verified', 'Trip Verified', 'Trip Verified', 'Trip Verified', 'Trip Verified', 'Trip Verified', 'Trip Verified', 'Trip Verified', 'Trip Verified', 'Trip Verified', 'Trip Verified', 'Trip Verified', 'Trip Verified', 'Trip Verified', 'Trip Verified', 'Trip Verified', 'Trip Verified', 'Trip Verified', 'Trip Verified', 'Trip Verified', 'Trip Verified', 'Trip Verified', 'Trip Verified', 'Trip Verified', 'Trip Verified', 'Trip Verified', 'Trip Verified', 'Trip Verified', 'Trip Verified', 'Trip Verified', 'Trip Verified', 'Trip Verified', 'Trip Verified', 'Trip Verified', 'Trip Verified', 'Trip Verified', 'Trip Verified', 'Trip Verified', 'Trip Verified', 'Trip Verified', 'Trip Verified', 'Trip Verified', 'Trip Verified', 'Trip Verified', 'Trip Verified', 'Trip Verified', 'Trip Verified', 'Trip Verified', 'Trip Verified', 'Trip Verified', 'Trip Verified', 'Trip Verified', 'Trip Verified', 'Trip Verified', 'Trip Verified', 'Trip Verified', 'Trip Verified', 'Trip Verified', 'Trip Verified', 'Trip Verified', 'Trip Verified', 'Trip Verified', 'Trip Verified', 'Trip Verified', 'Trip Verified', 'Trip Verified', 'Trip Verified', 'Trip Verified', 'Trip Verified', 'Trip Verified', 'Trip Verified', 'Trip Verified', 'Trip Verified', 'Trip Verified', 'Trip Verified', 'Trip Verified', 'Trip Verified', 'Trip Verified', 'Trip Verified', 'Trip Verified', 'Trip Verified', 'Trip Verified', 'Trip Verified', 'Trip Verified', 'Trip Verified', 'Trip Verified', 'Trip Verified', 'Trip Verified', 'Trip Verified', 'Not Verified', 'Not Verified', 'Not Verified', 'Verified Review', 'Verified Review', 'Verified Review', 'Verified Review', 'Verified Review', 'Verified Review', 'Verified Review', 'Verified Review', 'Verified Review', 'Verified Review', 'Verified Review', 'Verified Review', 'Verified Review', 'Verified Review', 'Verified Review', 'Verified Review', 'Verified Review', 'Verified Review', 'Verified Review', 'Verified Review', 'Verified Review', 'Verified Review', 'Verified Review', 'Verified Review', 'Verified Review', 'Verified Review', 'Verified Review', 'Verified Review', 'Verified Review', 'Verified Review', 'Verified Review', 'Verified Review', 'Verified Review', 'Verified Review', 'Verified Review', 'Verified Review', 'Verified Review', 'Verified Review', 'Verified Review', 'Verified Review', 'Verified Review', 'Verified Review', 'Verified Review', 'Verified Review', 'Verified Review', 'Verified Review', 'Verified Review', 'Verified Review', 'Verified Review', 'Verified Review', 'Verified Review', 'Verified Review', 'Verified Review', 'Verified Review', 'Verified Review', 'Verified Review', 'Verified Review', 'Verified Review', 'Verified Review', 'Verified Review', 'Verified Review', 'Verified Review', 'Verified Review', 'Verified Review', 'Verified Review', 'Verified Review', 'Verified Review', 'Verified Review', 'Verified Review', 'Verified Review', 'Verified Review', 'Verified Review', 'Verified Review', 'Verified Review', 'Verified Review', 'Verified Review', 'Verified Review', 'Verified Review', 'Verified Review', 'Verified Review', 'Verified Review', 'Verified Review', 'Verified Review', 'Verified Review', 'Verified Review', 'Verified Review', 'Verified Review', 'Verified Review', 'Verified Review', 'Verified Review', 'Verified Review', 'Verified Review', 'Verified Review', 'Verified Review', 'Verified Review', 'Verified Review', 'Verified Review', 'Verified Review', 'Verified Review', 'Verified Review', 'Verified Review', 'Verified Review', 'Verified Review', 'Verified Review', 'Verified Review', 'Verified Review', 'Verified Review', 'Verified Review', 'Verified Review', 'Verified Review', 'Verified Review', 'Verified Review', 'Verified Review', 'Verified Review', 'Verified Review', 'Verified Review', 'Verified Review', 'Verified Review', 'Verified Review', 'Verified Review', 'Verified Review', 'Verified Review', 'Verified Review', 'Verified Review', 'Verified Review', 'Verified Review', 'Verified Review', 'Verified Review', 'Verified Review', 'Verified Review', 'Verified Review', 'Verified Review', 'Verified Review', 'Verified Review', 'Verified Review', 'Verified Review', 'Verified Review', 'Verified Review', 'Verified Review', 'Verified Review', 'Verified Review', 'Verified Review', 'Verified Review', 'Verified Review', 'Verified Review', 'Verified Review', 'Verified Review', 'Verified Review', 'Verified Review', 'Verified Review', 'Verified Review', 'Verified Review', 'Verified Review', 'Verified Review', 'Verified Review', 'Verified Review', 'Verified Review', 'Verified Review', 'Verified Review', 'Verified Review', 'Verified Review', 'Verified Review', 'Verified Review', 'Verified Review', 'Verified Review', 'Verified Review', 'Verified Review', 'Verified Review', 'Verified Review', 'Verified Review', 'Verified Review', 'Verified Review', 'Verified Review', 'Verified Review', 'Verified Review', 'Verified Review', 'Verified Review', 'Verified Review', 'Verified Review', 'Verified Review', 'Verified Review', 'Verified Review', 'Verified Review', 'Verified Review', 'Verified Review', 'Verified Review', 'Verified Review', 'Verified Review', 'Verified Review', 'Verified Review', 'Verified Review', 'Verified Review', 'Verified Review', 'Verified Review', 'Verified Review', 'Verified Review', 'Verified Review', 'Verified Review', 'Verified Review', 'Verified Review', 'Verified Review', 'Verified Review', 'Verified Review', 'Verified Review', 'Verified Review', 'Verified Review', 'Verified Review', 'Verified Review', 'Verified Review', 'Verified Review', 'Verified Review', 'Verified Review', 'Verified Review', 'Verified Review', 'Verified Review', 'Verified Review', 'Verified Review', 'Verified Review', 'Verified Review', 'Verified Review', 'Verified Review', 'Verified Review', 'Verified Review', 'Verified Review', 'Verified Review', 'Verified Review', 'Verified Review', 'Verified Review', 'Verified Review', 'Verified Review', 'Verified Review', 'Verified Review', 'Verified Review', 'Verified Review', 'Verified Review', 'Verified Review', 'Unverified', 'Verified Review', 'Verified Review', 'Verified Review', 'Verified Review', 'Verified Review', 'Verified Review', 'Verified Review', 'Verified Review', 'Verified Review', 'Verified Review', 'Verified Review', 'Verified Review', 'Verified Review', 'Verified Review', 'Verified Review', 'Verified Review', 'Verified Review', 'Verified Review', 'Verified Review', 'Verified Review', 'Verified Review', 'Verified Review', 'Verified Review', 'Unverified', 'Verified Review', 'Verified Review', 'Verified Review', 'Verified Review', 'Unverified', 'Verified Review', 'Verified Review', 'Verified Review', 'Verified Review', 'Verified Review', 'Verified Review', 'Verified Review', 'Verified Review', 'Verified Review', 'Verified Review', 'Verified Review', 'Verified Review', 'Verified Review', 'Verified Review', 'Verified Review', 'Verified Review', 'Verified Review', 'Verified Review', 'Verified Review', 'Verified Review', 'Verified Review', 'Verified Review', 'Verified Review', 'Verified Review', 'Unverified', 'Verified Review', 'Verified Review', 'Verified Review', 'Verified Review', 'Verified Review', 'Verified Review', 'Verified Review', 'Verified Review', 'Verified Review', 'Verified Review', 'Verified Review', 'Verified Review', 'Verified Review', 'Verified Review', 'Verified Review', 'Verified Review', 'Verified Review', 'Verified Review', 'Verified Review', 'Verified Review', 'Verified Review', 'Verified Review', 'Verified Review', 'Verified Review', 'Verified Review', 'Verified Review', 'Verified Review', 'Verified Review', 'Verified Review', 'Verified Review', 'Verified Review', 'Verified Review', 'Verified Review', 'Verified Review', 'Verified Review', 'Verified Review', 'Verified Review', 'Verified Review', 'Verified Review', 'Verified Review', 'Verified Review', 'Verified Review', 'Verified Review', 'Verified Review', 'Verified Review', 'Verified Review', 'Verified Review', 'Verified Review', 'Verified Review', 'Verified Review', 'Verified Review', 'Verified Review', 'Verified Review', 'Verified Review', 'Verified Review', 'Verified Review', 'Verified Review', 'Verified Review', 'Verified Review', 'Verified Review', 'Verified Review', 'Verified Review', 'Verified Review', 'Verified Review', 'Unverified', 'Verified Review', 'Verified Review', 'Verified Review', 'Verified Review', 'Verified Review', 'Verified Review', 'Verified Review', 'Verified Review', 'Verified Review', 'Verified Review', 'Verified Review', 'Verified Review', 'Verified Review', 'Verified Review', 'Verified Review', 'Verified Review', 'Verified Review', 'Verified Review', 'Verified Review', 'Unverified', 'Unverified', 'Verified Review', 'Unverified', 'Verified Review', 'Verified Review', 'Verified Review', 'Verified Review', 'Verified Review', 'Verified Review', 'Verified Review', 'Verified Review', 'Verified Review', 'Verified Review', 'Verified Review', 'Verified Review', 'Unverified', 'Unverified', 'Verified Review', 'Verified Review', 'Verified Review', 'Verified Review', 'Verified Review', 'Verified Review', 'Verified Review', 'Verified Review', 'Verified Review', 'Unverified', 'Unverified', 'Verified Review', 'Verified Review', 'Verified Review', 'Verified Review', 'Verified Review', 'Verified Review', 'Verified Review', 'Verified Review', 'Verified Review', 'Verified Review', 'Verified Review', 'Verified Review', 'Verified Review', 'Verified Review', 'Verified Review', 'Verified Review', 'Verified Review', 'Verified Review', 'Verified Review', 'Verified Review', 'Verified Review', 'Verified Review', 'Verified Review', 'Verified Review', 'Verified Review', 'Verified Review', 'Verified Review', 'Verified Review', 'Verified Review', 'Verified Review', 'Verified Review', 'Verified Review', 'Verified Review', 'Verified Review', 'Verified Review', 'Verified Review', 'Verified Review', 'Verified Review', 'Verified Review', 'Verified Review', 'Unverified', 'Verified Review', 'Verified Review', 'Verified Review', 'Unverified', 'Unverified', 'Verified Review', 'Verified Review', 'Verified Review', 'Unverified', 'Unverified', 'Unverified', 'Unverified', 'Verified Review', 'Verified Review', 'Verified Review', 'Verified Review', 'Verified Review', 'Verified Review', 'Verified Review', 'Verified Review', 'Verified Review', 'Verified Review', 'Verified Review', 'Verified Review', 'Verified Review', 'Verified Review', 'Verified Review', 'Verified Review', 'Unverified', 'Verified Review', 'Verified Review', 'Verified Review', 'Verified Review', 'Verified Review', 'Verified Review', 'Verified Review', 'Verified Review', 'Verified Review', 'Verified Review', 'Verified Review', 'Verified Review', 'Verified Review', 'Verified Review', 'Verified Review', 'Verified Review', 'Verified Review', 'Verified Review', 'Verified Review', 'Verified Review', 'Verified Review', 'Verified Review', 'Verified Review', 'Verified Review', 'Verified Review', 'Verified Review', 'Verified Review', 'Verified Review', 'Verified Review', 'Verified Review', 'Verified Review', 'Verified Review', 'Verified Review', 'Verified Review', 'Verified Review', 'Verified Review', 'Verified Review', 'Verified Review', 'Verified Review', 'Verified Review', 'Verified Review', 'Verified Review', 'Verified Review', 'Verified Review', 'Verified Review', 'Verified Review', 'Verified Review', 'Verified Review', 'Verified Review', 'Verified Review', 'Verified Review', 'Verified Review', 'Verified Review', 'Verified Review', 'Verified Review', 'Verified Review', 'Verified Review', 'Verified Review', 'Verified Review', 'Verified Review', 'Verified Review', 'Verified Review', 'Verified Review', 'Verified Review', 'Verified Review', 'Verified Review', 'Verified Review', 'Verified Review', 'Verified Review', 'Verified Review', 'Verified Review', 'Verified Review', 'Verified Review', 'Verified Review', 'Verified Review', 'Verified Review', 'Verified Review', 'Verified Review', 'Verified Review', 'Verified Review', 'Verified Review', 'Verified Review', 'Verified Review', 'Verified Review', 'Verified Review', 'Verified Review', 'Verified Review', 'Verified Review', 'Verified Review', 'Verified Review', 'Verified Review', 'Verified Review', 'Verified Review', 'Verified Review', 'Verified Review', 'Verified Review', 'Verified Review', 'Verified Review', 'Verified Review', 'Verified Review', 'Verified Review', 'Verified Review', 'Verified Review', 'Verified Review', 'Verified Review', 'Verified Review', 'Verified Review', 'Verified Review', 'Verified Review', 'Verified Review', 'Verified Review', 'Verified Review', 'Verified Review', 'Verified Review', 'Verified Review', 'Verified Review', 'Verified Review', 'Verified Review', 'Verified Review', 'Verified Review', 'Verified Review', 'Verified Review', 'Verified Review', 'Verified Review', 'Verified Review', 'Verified Review', 'Verified Review', 'Verified Review', 'Verified Review', 'Verified Review', 'Verified Review', 'Verified Review', 'Verified Review', 'Verified Review', 'Verified Review', 'Verified Review', 'Verified Review', 'Verified Review', 'Verified Review', 'Verified Review', 'Verified Review', 'Verified Review', 'Verified Review', 'Verified Review', 'Verified Review', 'Verified Review', 'Verified Review', 'Verified Review', 'Verified Review', 'Verified Review', 'Verified Review', 'Verified Review', 'Verified Review', 'Verified Review', 'Verified Review', 'Verified Review', 'Verified Review', 'Verified Review', 'Verified Review', 'Verified Review', 'Verified Review', 'Verified Review', 'Verified Review', 'Verified Review', 'Verified Review', 'Verified Review', 'Verified Review', 'Verified Review', 'Verified Review', 'Verified Review', 'Verified Review', 'Verified Review', 'Verified Review', 'Verified Review', 'Verified Review', 'Verified Review', 'Verified Review', 'Verified Review', 'Verified Review', 'Verified Review', 'Verified Review', 'Verified Review', 'Verified Review', 'Verified Review', 'Verified Review', 'Verified Review', 'Verified Review', 'Verified Review', 'Verified Review', 'Verified Review', 'Verified Review', 'Verified Review', 'Verified Review', 'Verified Review', 'Verified Review', 'Verified Review', 'Verified Review', 'Verified Review', 'Verified Review', 'Verified Review', 'Verified Review', 'Verified Review', 'Verified Review', 'Verified Review', 'Verified Review', 'Verified Review', 'Verified Review', 'Verified Review', 'Verified Review', 'Verified Review', 'Verified Review', 'Verified Review', 'Verified Review', 'Verified Review', 'Verified Review', 'Verified Review', 'Verified Review', 'Verified Review', 'Verified Review', 'Verified Review', 'Verified Review', 'Verified Review', 'Verified Review', 'Verified Review', 'Verified Review', 'Verified Review', 'Verified Review', 'Verified Review', 'Verified Review', 'Verified Review', 'Verified Review', 'Verified Review', 'Verified Review', 'Verified Review', 'Verified Review', 'Verified Review', 'Verified Review', 'Verified Review', 'Verified Review', 'Verified Review', 'Verified Review', 'Verified Review', 'Verified Review', 'Verified Review', 'Verified Review', 'Verified Review', 'Verified Review', 'Verified Review', 'Verified Review', 'Verified Review', 'Verified Review', 'Verified Review', 'Verified Review', 'Verified Review', 'Verified Review', 'Verified Review', 'Verified Review', 'Verified Review', 'Verified Review', 'Verified Review', 'Verified Review', 'Verified Review', 'Verified Review', 'Verified Review', 'Verified Review', 'Verified Review', 'Verified Review', 'Verified Review', 'Verified Review', 'Verified Review', 'Verified Review', 'Verified Review', 'Verified Review', 'Verified Review', 'Verified Review', 'Verified Review', 'Verified Review', 'Verified Review', 'Verified Review', 'Verified Review', 'Verified Review', 'Verified Review', 'Verified Review', 'Verified Review', 'Verified Review', 'Verified Review', 'Verified Review', 'Verified Review', 'Verified Review', 'Verified Review', 'Verified Review', 'Verified Review', 'Verified Review', 'Verified Review', 'Verified Review', 'Verified Review', 'Verified Review', 'Verified Review', 'Verified Review', 'Verified Review', 'Verified Review', 'Verified Review', 'Verified Review', 'Verified Review', 'Verified Review', 'Verified Review', 'Verified Review', 'Verified Review', 'Verified Review', 'Verified Review', 'Verified Review', 'Verified Review', 'Verified Review', 'Verified Review', 'Verified Review', 'Verified Review']\n"
     ]
    }
   ],
   "source": [
    "print(verification)"
   ]
  },
  {
   "cell_type": "code",
   "execution_count": 48,
   "id": "07bb7bfc-2690-4812-8aba-40f221b3080e",
   "metadata": {},
   "outputs": [
    {
     "name": "stdout",
     "output_type": "stream",
     "text": [
      "['✅ Trip Verified |   London Heathrow to Male In new business class. BA continues to get its mojo back starting with a classy lounge serving innovative, and interesting, quality pre-flight food (beetroot scotch eggs?). Excellent wine (Whispering Angel). Presentation of on-board food has always been a bit hit and miss with BA, but on this occasion it was tasty and OK. Friendly and efficient on board crew. Smile, treat them respectfully, and as equals.  On time flight and early arrival.  Only awarding a 9 because we were bussed from A-C gates, otherwise a really enjoyable experience.', 'Not Verified |  Very good flight following an equally good flight to Rome. Good food (especially on an evening flight) and aircraft early both ways. Just what short haul should be.', \"Not Verified |  An hour's delay due to late arrival of the incoming aircraft. The captain was a particularly able communicator who kept us in touch with the situation. We got freebie upgrades to emergency exit seats from a friendly member of the crew. In the end we were only 30 minutes behind schedule in a relatively comfortable elderly plane. Pretty stress free.\", '✅ Trip Verified |   I booked through BA because Loganair don’t have representatives in Manchester airport. Loganair cancelled the flight but someone at BA marked the flight as delayed by 52 minutes. I’ve spent over 70 days chasing BA’s complaints department who are at best totally ineffective. They won’t put you through to the people dealing with the claim (apparently they don’t have the facility to do so!), they won’t phone Loganair, they won’t look on Manchester airports historic flight website to confirm the cancellation, they won’t put you through to a supervisor in fact they do very little but apologise for how little they do. ', \"✅ Trip Verified |   British airways lost bags in LHR then found them. Sent to Cologne where it sat for two days before they told me, but no one was there to give it to me. I spent 10 days in Europe without a bag, bought clothes. BA refused to reimburse me. They closed the case 10 days after i returned to the states when my bag showed up at my front door. They wont let you talk to management, they say they email mail you but they don't then you call customer service. they say they will escalate it but you will never know. they don't update the claims or the forms. \", '✅ Trip Verified | The check in process and reward/loyalty program is a mess. I am never able to get points, even when trying it through a partner airline. Unfortunately for work I have to travel with them sometimes.  This time, the flight was delayed.', '✅ Trip Verified |   We flew in November 2023, but it took this long to seek a satisfactory response from BA, which we ultimately never received. BA refused to re-book my son and me at no cost that day due to lack of Underground service / alternate service. BA forced us to buy new tickets and never admitted that they subjected us to disparate treatment. I will not be flying or recommending BA again.', '✅ Trip Verified | I left for London from Johannesburg at 21:15 on 22 December 2024. My only issue with that flight was the pillows they gave us were dirty and when my 7 year old dropped some juice and I asked a cabin crew member walking past for some serviettes she told me to go to the bathroom to get some to clean it up. Those issues weren’t pleasant but certainly not a major problem. I was booked on the BA0057 at 21:15 on 31 December 2024 to return to Johannesburg. The flight was delayed to the 1 January 2025 at 12:00pm. I had a connecting flight to Durban and do not live in Johannesburg. Landing in Johannesburg with 3 children at 1 am was not an option for me. BA changed my flight to 2nd January 2025 at 18:25. I requested a sooner date so I could get home sooner. I was given 1 January 2025 at 21:15. I accepted this as this is the original time I opted for and would he most convenient for me as I was doing a connection in Johannesburg to Durban. Unfortunately this flight was delayed till 2nd January at 17:00. I was extremely upset by this as I was absolutely exhausted and had 3 children who were absolutely exhausted. I also suffer from eczema and hay fever and did not have my creams and medication. This caused my eczema to flare up so badly, even my lips were cracked and burning. My allergies were so severe that my eyes were sticking together and I couldn’t stop sneezing. My daughter also has eczema and has had a flare up. The staff had no sympathy or empathy for a mother traveling alone and her children. I was just told that they know it’s an inconvenience and a lady even snapped at me that they trying their best. My children are 4, 7 and 11 and we were all booked on separate seats. Is that even legal let alone ethical? They were refusing to help me and saying they can’t do anything. I approached 3 people, and the third person finally put us together. So they could clearly help me??? My flight from Johannesburg to Durban was originally booked on South African Airways and I paid a lot for this ticket as South African Airways is not a low cost airline. I was given a cheap low cost Airline, CemAir, which I had never even heard of, to replace my SAA flight. I suffer from flight anxiety and this is why I never book low cost airlines with tiny flights. My anxiety went through the roof on the flight! Besides all of this, I am also left with a huge credit card bill as I used up all my pounds on the 1st! I know BA is obliged to compensate me for the inconvenience under EU law but besides the compensation BA staff really needs to show more empathy for their passengers, like me, who had two hours long flight delays two days in a row and was alone with 3 children. I expect my full compensation for all of us as this has been by far the worst experience I have had traveling. All their staff kept saying is “that’s why you will get compensation.” I am now waiting to see if I get compensated as I was promised by all of their ground staff! Legally they have to under EU law, so let’s see if they put up a fight or do what is ethical and legal.', '✅ Trip Verified |   After an excellent flight on a 777 CPT to LHR the return was not as good. BA have moved the Business Class checkin from one end of the hall to the other at T5 for no apparent reason so a nice long walk to check in. Fast Track security was very slow (15 minutes). The indicator board suggested the South Lounge was \"half full\" but when I went it was uncomfortably full and it is still tatty as not refurbished, so I went to the B Pier lounge instead. Much better except as usual the staff are sort of trying to pack up early and have a bizarre way of refilling the food containers which involves actually removing them to the kitchen (which means they are gone a lot of the time) rather than replenishing them customer side. Very employee-centric behaviour. Time for the flight so down to the transit to take us to the C Gates. Except the transit had decided not to stop any more at the B Gates so we watched five maybe seven transits pass through without stopping. Eventually me and a group of maybe 15 other passengers of mixed ages decided to descend to the walkway and run all the way to the C Gates. We all arrived soaked in sweat - not a nice start to a long business class flight. The A380 is spacious but the seat is outdated now and in urgent need of replacement. IFE was not working and had to be rebooted. The headphone prong was bent so headphones not working. The USB port was not working. Drinks were brought out promptly. Starter (salmon) was delicious - truly excellent. Beef was tough ... I think a bad piece of meat rather than badly cooked. Wines were good. Cheese was average to good. Staff were friendly. Good night\\'s sleep. Breakfast good. The recheck experience at JNB is a huge hassle - there is a giant screen saying \"Domestic recheck\" and a queue but when you get to the front of the queue you are told it is SAFAIR only and not for SAA, BA\\'s local partner. What a hassle. Why aren\\'t we warned or told this ... loads of BA passengers making the same mistake. Overall 5/10. It\\'s the little things that would make this better: fast track actually fast track. Refurbish the South Lounge. Have food replenishment in the passenger area, not the kitchen; make sure the transits stop, even late in the evening; refurbish the A380s; ask Do & Co (who are generally excellent by the way) to monitor meat quality rigorously.', '✅ Trip Verified |   On a recent flight from Cyprus BA621 on 23/11/24, the second the cabin door was closed the pilot announced we would be held on the runway for 2 hours. They know this prior and did not inform passengers until after we had boarded. The flight home took nearly 6 hours due to weather conditions, this plus 2 hours waiting. What did BA offer during this 8 hour hell flight, 3 oatmeal biscuits and 250ml of water for our family. When I went to the cabin crew to ask for more water, which I was told there wasn’t any 3 out of the 4 cabin crew were asleep in the back row seats of the aircraft BA621 on 23/11/24. This infuriated me further as I had previously asked if there were any spare seats so that my 2 year old could spread out and get some sleep if available. I was told the flight was full. After we arrived late my connecting flight had now been missed. We then queued at the connections desk in a large queue only to watch the BA staff clock off for the night in front of us. No genuine support was given to me, or my family and we were effectively abandoned by BA. I’ve tried to speak to someone, but their helpline has an automated message saying due to the number of calls (not surprised by that aspect) they cant assist me, then hang up. Tried this several times at various times. I think it’s their default message. Have raised this via their email system. Unsurprisingly been mugged off and can’t escalate until 8 weeks have passed. Like I said a national disgrace. ', '✅ Trip Verified |   Flight BA 0560 arrived in Rome on 11 December where ALL passengers received a SMS from BA to say that their luggage had been left in London.  My wife and I completed the required form but were in a queue for 2 hours to have it checked. BA’ s agent in Rome believe the baggage would arrive on the last flight that night (10pm) and would most likely be delivered next day. Nobody from BA in Rome Airport made contact with us to explain what happened and when bags would arrive. We finally got our luggage delivered to us at 4pm on Sunday 15 December - the day before we were due to leave Rome. During the waiting period there was no contact initiated by either BA or their Rome agents and on several occasions when we called both Rome and London help desks, we received no updates. In 34 years of travelling together this has never happened before and the sheer neglect in keeping us informed is disgusting. Sadly for BA, we will never fly with it again and will share our horror story with others and strongly encourage them to fly with another airline. I would give BA an overall rating of zero.', '✅ Trip Verified |   This was the first time I flew British Airways, and it was a huge disappointment. While the seat is quite good, the food is very simple and the service is subpar. But not only that, Heathrow airport, their hub, is by far the worst large airport I’ve seen in Europe. When we landed in DC I had an email saying that my luggage stayed in London. This was last Wednesday. I have an AirTag so I could follow my suitcase. It came to Washington the following day, Thursday. Ever since, it’s been sitting in the airport. British offers no means of communication: the online chat is a bot. The bot tells me to call a number in England. I did. It’s another bot. When you say you have in inquiry about luggage it sends you a link via SMS and hangs up. No option to talk to a human. In the claim form they gave me there’s a local phone, which reaches a voicemail. I keep calling them (6 times today only) and leaving messages, saying that the AirTag shows the suitcase in IAD and offering to go pick it up so they don’t need to deliver it. No one replies to the voicemail. So basically I am shut out, with no luggage, no information, no customer service and no one to talk to. ', '✅ Trip Verified |   Pretty good flight but still some small things that can be improved. Check in was quick. Lounge was good - tasty food and well chosen wines. Disappointingly they had not secured a gate so we had to bus to the aircraft and it was all a hot scrum. I got the last bus to avoid the crush. Emirates, Turkish, Lufthansa, Qatar all had planes on gates ... why not BA? Penny-pinching? Then it turned out the cabin crew forgot about those on the last bus so I had to ask for a welcome drink. It came and the champagne was actually cold. Well done BA ... first time they managed to serve champagne cold in my 10 years of flying with them. Big improvement. Cabin and seat were lovely as always (I greatly prefer to the Emirates white/gold bling). Drinks service was prompt. IFE was good. Starter (trout) was OK. Main (chicken) was excellent. Cheese was sold not cold (as it should be). Wines were excellent. We were not disturbed through the night so got a good sleep on a comfy bed. Cabin was a bit too warm though for my personal preference. Was woken up (as asked) and served a tasty breakfast. Small detail - as it is impossible to get water to 100C at altitude maybe BA could warm the ceramic coffee cups so coffee retains its heat a bit longer? Pouring not quite hot coffee into a nice (but cold) china mug means it is lukewarm instantly. Off the plane in record time (2 minutes) after parking. Bags were waiting for us on the belt. Excellent work by the ground staff. Overall 8/10. Improvement points: gate not bus to the plane; don\\'t forget passengers on the last bus or who board late (but well before pushback). Standout cabin crew member was \"Miguel\" - what a star.', '✅ Trip Verified | Check in was fine, but no priority/fast track lines for security or boarding. There is only one lounge option for first class customers in Mexico City, which is the American Airlines admirals club, which is abysmal. There is a free bar, serving cheap alcohol – an awful food selection – and nowhere to shower. On board – I find the seat really comfortable. The crew were fantastic, and I’m starting to really see some consistency in the quality of their first class crew. The drink selection was fine. The food was appalling. We were the victims of their new supper service. This is basically a dinner service with a lot less options/choice. No fish/seafood options on either the starters or the mains. First choice of Main unavailable as only two had been loaded. The fillet steak, so drying and overcooked, that I heard at least three people send it back. Pretty impressive for a cabin of just eight passengers..Dreadful dessert and cheeseboard. luggage off swiftly the other end – so good to see priority tagging working.', \"✅ Trip Verified | British Airways is absolute rubbish. I had to fly to Amsterdam for an urgent appointment. The flight was cancelled last minute presumably due to bad weather. They've kept us at the gate saying the plane couldn't land while literally every plane from that airport was taking off and landing with zero issues. There was another KLM flight to Amsterdam scheduled to depart at the same time. It took off on time and another KLM flight to Amsterdam later the evening also took off without any problems. It's just the one operated by British Airways was cancelled because of 'the bad weather'. Apparently, the weather was so bad that every plane could land and take off successfully apart from theirs. I had to rebook myself on the Eurostar the next day and would still miss the important appointment that I intended to go to Amsterdam for. All thanks to British Airways.\", '✅ Trip Verified | The flight time was changed at the last minute without warning and no assistance was provided by the ground staff (3rd party agents) regarding the impact for the delay, nor was any help forthcoming from the phoneline. Nobody in the airline wants to take responsibility for anything. This is fundamentally an unreliable airline. Onboard service was poor and not even as good as some low cost airlines.', \"✅ Trip Verified |\\xa0 \\xa0I'm so fraustrated. My flight was cancelled last minute, which wasn't the end of the world, even though the earliest I could get re-booked was three days later. It's the insane saga of events that proceeded to claim the compensation that I'm legally entitled to according to EU rules. Used their claims page and all was OK. It was from there that it became incomprehensibly frustrating. My case was closed but no confirmation of what the conclusion was or any money. I tried calling but kept being lead in circles; customer services can't speak to the claims team, the claims team can't be spoken to directly, customer service don't have access to the claims team's system and so on. 4 calls later and 'nothing could be done'. I had to throw my toys out of the pram on the last call and someone finally updated me. I thought that was the end; they had confirmed the claim and that I would be transferred what I was due. And then, they got the amount wrong. I wrote to they to highlight this and they said that they would rectify it. Almost 1 month since the original flight was cancelled and still haven't received what is owed to me as compensation for my wife and son. I have sent two more emails in the last two days and I've yet to get a response. It is criminal that they are not adhering to the aviation rules that dictate compensation for cancelled flights. Terrible customer service and honestly can't belive that BA are capable of such awful service.\", '✅ Trip Verified | We have sat on this plane for an hour and forty five minutes awaiting takeoff due to bad weather in London. This is understandable for safety. Fortunately I have a long layover so this delay does not affect me. However many others are not so lucky. While waiting we were given one small bottle of water and one tiny pack of corn kernels. Later food and drink were offered for purchase. This is my complaint. After sitting idle on this plane for nearly two hours and possibly missing connecting flights they can’t give us a free bag of chips and a coke? When I asked I was told no. Is British Airways really this cheap and money grubbing?', \"Not Verified |  British Airways stranding my wife and I at Heathrow Airport for 2.5 days, with no access to our baggage. We we told by airline employees to purchase any necessities (toiletries, refreshments, etc.) and we'd be reimbursed. That claim was denied, with BA claiming that weather was the reason for the delay (an outright lie since every other airline in London was flying on-time). We were unable to to anything besides stand in lines for vouchers, stand in lines for shuttles, stand in line for reservations, etc. for 48+ hours. It was an absolute nightmare and I will never fly BA again.\", '✅ Trip Verified |   Although like many these days, I avoid BA on long haul from London Heathrow due to my perception of poor service and lack of customer services if things go wrong, I was pleasantly surprised by my recent flight to Belfast. The aircraft actually left on time and arrived ahead of schedule. The cabin crew looked bored and uninspired as they can often do on BA (I read at times) but that didn’t really matter. It was a quiet flight so I say myself at the emergency exit unchallenged which was handy. Would fly again with BA where pressed.', '✅ Trip Verified | This flight was British Airways at its very best. The flight attendants were outstanding - processional, attentive and helpful. The food was very good and the seat/lie flat bed was very comfortable. I love to smart design of the A350 Club World cabin. Wonderful flight home!', 'Not Verified | The worst airline I have ever flown with. They cancelled my flight 3 hours before departure and didn’t even contact me. They didn’t put me on a new flight - I had to rebook myself for the next day - and I was also left to find my own accommodation which was a nightmare and have been refused compensation and I was left stranded. Onboard services are also archaic and outdated and the planes are the oldest out of any airline I’ve flown with. Food and service was the worst I’ve ever experienced and I’ve travelled on most airlines (Emirates, Etihad, Thai, Malaysian, Qantas, Cathay, UA etc). DO NOT FLY WITH BA.', '✅ Trip Verified |   Disappointing service, plane interior and terribly incompetent customer service I booked my flight directly through BA\\'s website. Soon after I started to get emails saying my selected seats (I paid extra for the selection) had been changed by BA without any reason given and I was directed to the website. There I found no information on the said seat change. This happened several times (I had 4 flights altogether). The website seems to be a digital dinosaur. The first leg of my flight was fine, until I discovered in the transfer area at Heathrow that I forgot my new laptop onboard. Immediately I contacted BA\\'s so called Customer Service (what an oxymoron), which basically said they can not do anything, I would have to wait until the cleaners (working for a contractor) would have finished their job and hope they would discover the laptop and return it to so called Lost & Found at the airport. BA\\'s customer service said they couldn\\'t contact their colleagues in the terminal/gate were the plane was still and let them know there was a lost laptop by seat no 27A of the plane (yes I told them exactly were the laptop was). They wouldn\\'t take any contact details either to notify me if and when the laptop would be returned and they refused to register the incident. They simply had no interest in assisting me and didn\\'t even make an attempt to pretend they did. Communication via their online customer service was poor, and they didn\\'t even respond to my messages. In the end I emailed the representative at Heathrow and he replied with a message form his supervisor (which did not reveal his name): \"It is not the duty of British Airways to find lost property on behalf of our passengers, however if you would like to dispute this you can contact customer relations online with further feedback.\" They took no responsibility and referred me to Smartecarte, which is the contractor cleaning their planes and apparently collecting lost items at Heathrow. I have not received the laptop, worth 2 thousand GBP, back now 3 weeks later. The flights between London and Cape Town (~12 hours), were unpleasant. The flight attendants were seemingly unenthusiastic about their job, it took up to an hour to collect the trash after the meal, which also was distributed extremely slowly. Food was not good. Boarding was slow and inefficient. Drinks were only offered twice (otherwise you\\'d have to ask for it especially) on this long flights. The seats were of fabric, uncomfortable and room too scarce to relax and sleep. All in all flying with British Airways was disappointing and I will not be keen on flying with them again. ', \"✅ Trip Verified |   A transit visa is required for my partner to transit via London to Iceland. So I had to buy a separate ticket for her via another airline. When we reach Iceland I emailed British Airways telling then she won't be using her return ticket and requested for a partial refund. 2 days later. I received an email from customer service that I need to contact one of their service centres via the provided link. I replied to say the link only goes to a page with various British landline phone numbers to call and explained that I am overseas then and it will not be practical to do this via international calls. They replied to say I can only do this by contacting the service centres. So the airline end up taking my money regardless. \", '✅ Trip Verified |\\xa0 \\xa0I was surprised to receive confirmation pre-flight that I had 69 kgs luggage allowance. This to be later confirmed as one at 23 kg checked in, another 23 kgs carry on for under seat, and a third 23 kgs carry on for overhead stowage. Checkin opened a bit late, and the line for Executive Club members even later, but was courteous and efficient. Long queue for passport control but the fault of Brexit, not BA. My seat had no screen; no earphone socket; no charge point; no seat recline; no boarding music. All the same as low cost carriers. Captain announced \"Wonderful service from Emily and crew\" - maybe it was in Club Class, not the economy cabin. It was announced that they would serve complimentary water and snack, but only the snack came. It was also announced there would be free text messaging for Exec Club members, but I couldn\\'t get it to work, although a member. Snacks were sold, some at twice TUI price. For example Cadbury\\'s chocolate fingers at £3.50. I chose BA this time as when I booked it was cheaper than all the charter carriers. And being British I mustn\\'t forget BA\\'s impeccable safety record and normally reliable service. After landing the Purser thanked the crew for their hard work. Seems pushing one small cart down the aisle during four hours constitutes hard work in BA. But at least we were on time.', \"✅ Trip Verified |   Flight cancelled, not refunding our money saying we took the flight that never happened. Not refunding the new flights we booked, hotels, food while we were stranded. Did not provide food or water while waiting for hours on tarmac. Will not provide information as to why they aren't refunding the flight that never happened. Saying there is no more information.\", '✅ Trip Verified |   I had visa issues, and hence, was debarred from flying. The ground staff at Mumbai was excellent (a woman named Brinelle) was very helpful and understanding. I had to rebook my tickets, and while the original journey was consisting of 3 legs, BA forced me to rebook the entire ticket, because their system did not allow them to rebook just that one leg (even though there was a gap of 13 days between the two legs, not like they were connecting flights). The telephone operator was rude, took 45 minutes and kept saying she needed 3-4 more minutes to give me clarity. It was horrendous. The final price they offered me for rebooking 2 of the 3 legs was much more than the original fare for all 3 legs. She was torturous, BA was horrendous because the website does not allow you to do all this. A very poor experience, in all.', '✅ Trip Verified |\\xa0 \\xa0Singapore to Heathrow with BA. Two choices on this route A380 or 777-300. In economy and premium (and first) there isn’t much in it. In club world the 777 wins as it has the suite. Check in was easy. Security and passport control in Singapore is efficient. Choice of 3 lounges (BA, Qantas or Qatar) the latter wins easily. BA lounge was ok no major negatives. Qantas wins on space. Boarding was on time. The aircraft has a high density club world cabin. Service was fine. Club suite was good. It’s the food and beverages that are being targeted I feel. The 1st meal starter was good, main of beef fillet was average, same sentiment for cheese. Wines were acceptable. Champagne choice is cheap so I did not try. Service for meals efficient given the full cabin. Breakfast was similar. The menu suggested that some might want to skip a main course and opt for starter and dessert, for this to work for BA, a major shift in how lounge options are sourced and presented would be needed. As it was I slept well, we arrived early, luggage off quickly (for once) so a reasonable flight overall. My warning to BA is that food and beverages in club world are drifting in the wrong direction', \"✅ Trip Verified |   I recently travelled from Munich to London with British Airways, and it turned into an absolute nightmare. Our troubles began with their malfunctioning app. Despite checking in successfully, I was unable to retrieve our boarding passes. Upon arrival at the airport, we discovered that there were no self-service kiosks, and the check-in desks were completely unattended. After seeking help from the information desk, we were directed to a staff member who clearly did not want to assist us. Her dismissive attitude was infuriating, and despite showing her the app indicating we were checked in, she simply told us to call customer service and walked away without providing any assistance. After being put on hold for 25 minutes and being sent to several different staff members who couldn’t help us, we finally reached someone on the phone who was kind but ultimately powerless to resolve our issue. By this point, our flight was delayed, and we had wasted two hours just trying to print our boarding passes. When I followed up with a complaint, British Airways basically dismissed my concerns and told me to use the app next time—ignoring the fact that it was the app's failure that caused all these problems in the first place! This experience cost us a staggering £682.43 in additional expenses, including new flights, hotel stays, taxi fares, and fines. Missing work and explaining this absurd situation to my employer was incredibly embarrassing. British Airways clearly needs to improve its customer service and technology. If their app and website are going to fail, they must provide adequate support at the airport. I will never fly with them again, and I urge others to consider alternative airlines.\", 'Not Verified |  I paid for seats 80 A and B on my flight from Heathrow to Boston on the A380, paying for premium economy seats. Upon arrival at the airport the ticket agent said I was not healthy enough to sit in the purchased seats due to being too old I presume (65) since there is no other reason I can find I could not sit in the exit seating. I am healthy enough to walk 10-12 miles a day and have adequate upper body strength. Attempting to convince her just got us stuck in a cattle call seat, at the rear of the aircraft, second floor and in the middle two seats of the row. We were told our money would be refunded immediately for the \"inconvenience\". After several weeks I recontacted BA and they said the complaint went to the wrong section and they were forwarding it to the next section. 6 weeks later and we still have not heard any updates except for a computer response stating most refunds were returned in 3 weeks, keep waiting. The plane then had ground difficulties and needed a quick repair. They completed that 30 minutes later and boarded the flight. The captain then came on and said it looks like they forgot to order the ground crew to back us out of the terminal and we needed to wait another 30 minutes. We were not able to make up for the lost time in the air. We landed 1.5 hours later than scheduled, wreaking havoc with our next flight.']\n"
     ]
    }
   ],
   "source": [
    "print(reviews[0:30])"
   ]
  },
  {
   "cell_type": "code",
   "execution_count": null,
   "id": "43682db0-dff4-4d1e-b091-13c97ed63cb9",
   "metadata": {},
   "outputs": [],
   "source": []
  }
 ],
 "metadata": {
  "kernelspec": {
   "display_name": "Python 3 (ipykernel)",
   "language": "python",
   "name": "python3"
  },
  "language_info": {
   "codemirror_mode": {
    "name": "ipython",
    "version": 3
   },
   "file_extension": ".py",
   "mimetype": "text/x-python",
   "name": "python",
   "nbconvert_exporter": "python",
   "pygments_lexer": "ipython3",
   "version": "3.12.7"
  }
 },
 "nbformat": 4,
 "nbformat_minor": 5
}
